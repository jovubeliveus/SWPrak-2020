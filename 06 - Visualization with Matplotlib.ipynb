{
 "cells": [
  {
   "cell_type": "markdown",
   "metadata": {},
   "source": [
    "_Softwarepraktikum Blockkurs März 2020 (WS2019/20)_ "
   ]
  },
  {
   "cell_type": "markdown",
   "metadata": {},
   "source": [
    "# Visualisierung mit matplotlib[<sup>1</sup>](#fn1)"
   ]
  },
  {
   "cell_type": "markdown",
   "metadata": {},
   "source": [
    "[Jörn Behrens](https://www.math.uni-hamburg.de/numgeo/) (joern.behrens@uni-hamburg.de)"
   ]
  },
  {
   "cell_type": "markdown",
   "metadata": {},
   "source": [
    "## 1. Einführung und Ziel\n",
    "\n",
    "Dieses Notebook führt einige einfache Methoden zur Datenvisualisierung ein. Wir werden in vielen Fällen Listen von Daten (arrays) verwenden. Solche Arrays werden am sinnvollsten im numerischen Paket `numpy` definiert, das wir daher am Anfang einführen. \n",
    "\n",
    "### Voraussetzung\n",
    "\n",
    "Ein inzwischen gut gesicherter Umgang mit Python als Programm-Umgebung und Grundlegendes Verständnis von Funktionen und Graphen."
   ]
  },
  {
   "cell_type": "markdown",
   "metadata": {},
   "source": [
    "## 2. Exkurs: Kurze Einführung in NumPy Arrays\n",
    "\n",
    "In diesem kurzen Teil werden wir `numpy` verwenden, um einfache Datenstrukturen für die Visualisierung zu erzeugen. Ein `array` ist eine Liste von Objekten (in unserem Falle meist Zahlen). Die Objekte sind - ganz analog zu einem Vektor - über einen Index addressierbar:\n",
    "\n",
    "$$\n",
    "\\mathbf{a} = (a_0, a_1, \\ldots, a_n).\n",
    "$$\n",
    "\n",
    "### Arrays erzeugen und Eigenschaften ermitteln\n",
    "\n",
    "In Python laden wir zunächst die `numpy` Umgebung und deklarieren dann das Array `a`."
   ]
  },
  {
   "cell_type": "code",
   "execution_count": null,
   "metadata": {},
   "outputs": [],
   "source": [
    "import numpy as np\n",
    "a = np.array([1,2,3,4,5])\n",
    "print(a)"
   ]
  },
  {
   "cell_type": "markdown",
   "metadata": {},
   "source": [
    "Nun können wir verschiedene Informationen über dieses Array bekommen:\n",
    "* `shape`: gibt die Form des Arrays zurück, es kann auch mehrdimensional sein\n",
    "* `size` : gibt die Größe des Arrays zurück\n",
    "* `ndim` : gibt die Anzahl der Dimensionen zurück\n"
   ]
  },
  {
   "cell_type": "code",
   "execution_count": null,
   "metadata": {},
   "outputs": [],
   "source": [
    "print(a.shape)\n",
    "print(a.size)\n",
    "print(a.ndim)"
   ]
  },
  {
   "cell_type": "markdown",
   "metadata": {},
   "source": [
    "Ein sehr großes Array kann man auch automatisch erzeugen mit dem `arange` Befehl. Ein Array aus Zufallszahlen lässt sich mit `random.rand` erzeugen:"
   ]
  },
  {
   "cell_type": "code",
   "execution_count": null,
   "metadata": {},
   "outputs": [],
   "source": [
    "x = np.arange(100)\n",
    "print(x.shape, x.size, x.ndim)\n",
    "y = np.random.rand(20,5)\n",
    "print(y.shape, y.size, y.ndim)"
   ]
  },
  {
   "cell_type": "markdown",
   "metadata": {},
   "source": [
    "### Form des Arrays manipulieren\n",
    "\n",
    "Die Form des Arrays lässt sich ändern, indem man dem `shape`-Befehl entsprechende Angaben macht:"
   ]
  },
  {
   "cell_type": "code",
   "execution_count": null,
   "metadata": {},
   "outputs": [],
   "source": [
    "x = np.arange(100)\n",
    "print(x.shape, x.size, x.ndim)\n",
    "x.shape = (2,50)\n",
    "print(x.shape, x.size, x.ndim)"
   ]
  },
  {
   "cell_type": "markdown",
   "metadata": {},
   "source": [
    "Man kann Python auch die Größe in einer Dimension automatisch ermitteln lassen:"
   ]
  },
  {
   "cell_type": "code",
   "execution_count": null,
   "metadata": {},
   "outputs": [],
   "source": [
    "y.shape = (4,5,-1)\n",
    "print(y.shape, y.size, y.ndim)"
   ]
  },
  {
   "cell_type": "markdown",
   "metadata": {},
   "source": [
    "### Indizierung\n",
    "\n",
    "Um nun einzelne Einträge im Array zu addressieren verwenden wir die folgenden Ausdrücke:"
   ]
  },
  {
   "cell_type": "code",
   "execution_count": null,
   "metadata": {},
   "outputs": [],
   "source": [
    "print(a[0], a[2])"
   ]
  },
  {
   "cell_type": "markdown",
   "metadata": {},
   "source": [
    "Wir können auch eine Teilmenge aus dem Array ausschneiden:"
   ]
  },
  {
   "cell_type": "code",
   "execution_count": null,
   "metadata": {},
   "outputs": [],
   "source": [
    "print(a[0:3])"
   ]
  },
  {
   "cell_type": "markdown",
   "metadata": {},
   "source": [
    "Um mit dem Array $x$ noch etwas besser umgehen zu können werden wir es nochmals in der Form verändern."
   ]
  },
  {
   "cell_type": "code",
   "execution_count": null,
   "metadata": {},
   "outputs": [],
   "source": [
    "x.shape = (20,5)"
   ]
  },
  {
   "cell_type": "markdown",
   "metadata": {},
   "source": [
    "Nun können wir verschiedene Konstrukte demonstrieren:"
   ]
  },
  {
   "cell_type": "code",
   "execution_count": null,
   "metadata": {},
   "outputs": [],
   "source": [
    "print(\"Die ersten 4 Zeilen\\n\", x[:4])\n",
    "print(\"Zeile 18 bis zum Ende\\n\", x[18:])\n",
    "print(\"Die letzten 4 Zeilen\\n\", x[-5:])\n",
    "print(\"Die Zeilen umgekehrt\\n\", x[::-1])\n",
    "print(\"Die erste Spalte\\n\", x[:,0])"
   ]
  },
  {
   "cell_type": "markdown",
   "metadata": {},
   "source": [
    "Logische Konstrukte zur Indizierung - Beispielsweise nur die geraden Einträge (der `%`-Befehl ist die Modulo Funktion):"
   ]
  },
  {
   "cell_type": "code",
   "execution_count": null,
   "metadata": {},
   "outputs": [],
   "source": [
    "print(x[(x % 2) == 0])"
   ]
  },
  {
   "cell_type": "markdown",
   "metadata": {},
   "source": [
    "Schließlich können wir auch Permutationen durchführen. Beachten Sie, dass wir dazu doppelte eckige Klammern verwenden, denn wir benötigen eine Liste von Indizes:"
   ]
  },
  {
   "cell_type": "code",
   "execution_count": null,
   "metadata": {},
   "outputs": [],
   "source": [
    "print(a[[2,0,4,1,3]])"
   ]
  },
  {
   "cell_type": "markdown",
   "metadata": {},
   "source": [
    "### Rang-Erweiterungen (Broadcasting)\n",
    "\n",
    "Eine sehr nützliche Funktion in NumPy (natürlich ist das eigentlich eine Eigenschaft der numerischen Linearen Algebra) ist das sogenannte Broadcasting. Dabei kann man Arrays dazu verwenden die Dimensionszahl zu erhöhen und somit Gitterfunktionen zu erzeugen. Hier folgen ein paar einfache Beispiele, bevor wir den kurzen Exkurs in NumPy beenden."
   ]
  },
  {
   "cell_type": "code",
   "execution_count": null,
   "metadata": {},
   "outputs": [],
   "source": [
    "u = np.arange(100)\n",
    "u.shape = (20,5)\n",
    "v = np.random.rand(4,20,5)\n",
    "print(\"Form von u:\", u.shape)\n",
    "print(\"Form von v:\", v.shape)\n",
    "w1= u+v\n",
    "print(\"Form von w1:\", w1.shape)"
   ]
  },
  {
   "cell_type": "markdown",
   "metadata": {},
   "source": [
    "Die Erweiterungsdimension kann kontrolliert werden:"
   ]
  },
  {
   "cell_type": "code",
   "execution_count": null,
   "metadata": {},
   "outputs": [],
   "source": [
    "w2 = u[np.newaxis, :, :] + v\n",
    "print(\"Form von w2:\", w2.shape)\n",
    "w3 = np.tile(u, (4,1,1)) + v\n",
    "print(\"Form von w3:\", w3.shape)"
   ]
  },
  {
   "cell_type": "markdown",
   "metadata": {},
   "source": [
    "Sind diese Erweiterungen jetzt identisch?"
   ]
  },
  {
   "cell_type": "code",
   "execution_count": null,
   "metadata": {},
   "outputs": [],
   "source": [
    "print(\"Vergleich w1 mit w2: Identisch? \", np.all(w1 == w2))\n",
    "print(\"Vergleich w1 mit w3: Identisch? \", np.all(w1 == w3))"
   ]
  },
  {
   "cell_type": "markdown",
   "metadata": {},
   "source": [
    "Zu guter letzt noch ein Rang-1 Update (entspricht der Multiplikation eines Spaltenvektors mit einem Zeilenvektor):"
   ]
  },
  {
   "cell_type": "code",
   "execution_count": null,
   "metadata": {},
   "outputs": [],
   "source": [
    "x = np.arange(-5, 5, 0.1)  # Array von -5 bis 5 mit Schrittweite 0.1\n",
    "y = np.arange(-8, 8, 0.25) # Array von -8 bis 8 mit Schrittweite 0.25\n",
    "print(x.shape, y.shape)\n",
    "z = x[np.newaxis, :] * y[:, np.newaxis]\n",
    "print(z.shape)\n",
    "print(z[:5,:5])"
   ]
  },
  {
   "cell_type": "markdown",
   "metadata": {},
   "source": [
    "## 3. Erste Schritte mit matplotlib\n",
    "\n",
    "Zunächst überprüfen wir die Versionsnummer und die Plot-Umgebung. Dabei gibt es verschiedene Umgebungen, die wir nutzen können. Per Default ist in Jupyter Notebook die Umgebung `ipykernel.pylab.backend_inline` eingestellt. Eine andere sinnvolle Umgebung heißt `nbagg`. Wir werden jedoch zunächst mit dem Default arbeiten.\n",
    "\n",
    "**Beachten Sie:** Wenn Sie die `nbagg` Umgebung verwenden, dann erscheint eine Graphik erst, wenn der Befehl `show()` Ausgeführt wurde."
   ]
  },
  {
   "cell_type": "code",
   "execution_count": null,
   "metadata": {},
   "outputs": [],
   "source": [
    "import matplotlib\n",
    "print(matplotlib.__version__)\n",
    "print(matplotlib.get_backend())\n",
    "# matplotlib.use('nbagg')\n",
    "# print(matplotlib.get_backend())"
   ]
  },
  {
   "cell_type": "markdown",
   "metadata": {},
   "source": [
    "Um nun wirklich etwas darstellen zu können müssen wir das Modul `pyplot` aus der `matplotlib` laden. Anschließend lässt sich eine Funktion - beispielsweise die $\\sin$-Funktion darstellen (wir verwenden dabei das oben definierte Intervall $x=(-5,5)$)."
   ]
  },
  {
   "cell_type": "code",
   "execution_count": null,
   "metadata": {},
   "outputs": [],
   "source": [
    "import matplotlib.pyplot as plt\n",
    "y=np.sin(x)\n",
    "plt.plot(x,y); # Verwende ein Semikolon, um die Ausgabe von Plot zu unterdrücken!"
   ]
  },
  {
   "cell_type": "markdown",
   "metadata": {},
   "source": [
    "Sehr schön, unser erster Plot der $\\sin$-Funktion. \n",
    "\n",
    "### Achsen, Titel, Legende, etc.\n",
    "\n",
    "Aber wir haben die Achsen nicht beschriftet und auch ein Titel fehlt. Gerne wollen wir auch jetzt ein besseres Intervall auswählen, vielleicht noch die Linienstärke bestimmen und die Farbe auswählen. Eine Legende wäre auch nicht schlecht. Die folgenden Befehle ermöglichen das:"
   ]
  },
  {
   "cell_type": "code",
   "execution_count": null,
   "metadata": {},
   "outputs": [],
   "source": [
    "x = np.arange(0,2*np.pi,0.1)\n",
    "y = np.sin(2*x)\n",
    "plt.plot(x,y,'r-',lw=2,label='Sinus') # r-: rote durchgezogene linie; lw=2 Linienweite = 2pt\n",
    "plt.xlabel('x-Achse')\n",
    "plt.ylabel('y-Aches')\n",
    "plt.title('Sinus-Funktion')\n",
    "plt.legend(loc = 'upper right');"
   ]
  },
  {
   "cell_type": "markdown",
   "metadata": {},
   "source": [
    "### Arbeiten mit mehreren Graphen\n",
    "\n",
    "Bevor wir in einem weiteren Arbeitsblatt auf Details der Visualisierung eingehen, werden wir nun noch kennen lernen, wie wir mehrere Graphiken verwenden und verschiedene Funktionen in einer Graphik unterbringen können. \n",
    "\n",
    "Um mehrere Achsen auf einem Ausgabepanel unter zu bringen, benötigen wir den Befehl `subplot`. Mehrere Funktionen kann man einfach durch das mehrfache Aufrufen des Befehls `plot`. Um zusätzlich noch die Achsen zu skalieren müssen wir mit handeln arbeiten. Diese werden durch den Befehl `subplot` erzeugt und zurück gegeben.\n",
    "\n",
    "Das folgende Beispiel zeigt zwei Graphen mit jeweils eigenem Achsensystem übereinander. "
   ]
  },
  {
   "cell_type": "code",
   "execution_count": null,
   "metadata": {},
   "outputs": [],
   "source": [
    "ax1 = plt.subplot(211)\n",
    "ax1.plot(x,y,'b-')\n",
    "\n",
    "ax2 = plt.subplot(212)\n",
    "ax2.plot(2*x,np.sin(x*x),'r-');"
   ]
  },
  {
   "cell_type": "markdown",
   "metadata": {},
   "source": [
    "Wir können die Graphiken auch nebeneinander platzieren und mit dem Befehl `set_title` mit Titeln versehen. Auch die Achsenbeschriftungen lassen sich so einfügen, dazu verwenden wir `set_xlabel`,`set_ylabel` und `legend` jeweils angewandt auf den Handle"
   ]
  },
  {
   "cell_type": "code",
   "execution_count": null,
   "metadata": {},
   "outputs": [],
   "source": [
    "ax1 = plt.subplot(121)\n",
    "ax1.plot(x,y,'b-')\n",
    "ax1.set_title('sin(x)')\n",
    "ax1.set_xlabel('x-Achse')\n",
    "ax1.set_ylabel('y-Achse')\n",
    "\n",
    "ax2 = plt.subplot(122)\n",
    "ax2.plot(x,(x*x*np.cos(x)),'r-', label='func')\n",
    "ax2.set_title('$x^2$ * sin(x)')\n",
    "ax2.legend(loc='upper left')\n",
    "ax2.set_xlabel('x');"
   ]
  },
  {
   "cell_type": "markdown",
   "metadata": {},
   "source": [
    "## 4. Erweiterte Plot-Funktionen und mehrdimensionale Darstellung\n",
    "\n",
    "### Verschiedene Graphen-Typen\n",
    "\n",
    "Bislang haben wir Liniengraphen kennen gelernt. Natürlich gibt es eine große Vielfalt weiterer Typen:\n",
    "\n",
    "* `plot` erzeugt Liniengraphen\n",
    "* `scatter` erzeugt Punktwolken\n",
    "* `bar` erzeugt Balkendiagramme\n",
    "* `fill` oder `stackplot` erzeugt mit Farbe ausgefüllte Graphen.\n",
    "\n",
    "Für Funktionsgraphen oder Punktwolken können die Linien und die Marker (also die Symbole) gewählt werden. Hier sind ein paar Beispiele:\n",
    "\n",
    "* `linestyle` = '--', ':', '-.' erzeugt eine gestrichelte, gepunktete, gestrichpunktete Linie\n",
    "* `marker`= 'o', '^', 's' erzeugt punktförmige, dreieckige und quadratische (square) Markierungen\n",
    "\n",
    "Als Beispiel können wir auf zwei verschiedene Weisen die Bevölkerungsstruktur Deutschlands (Jahr 2020, geschätzt nach [UN World Population Prospects](https://population.un.org/wpp/)) darstellen:"
   ]
  },
  {
   "cell_type": "code",
   "execution_count": null,
   "metadata": {},
   "outputs": [],
   "source": [
    "ref = ('0-24','25-49','50-74','75-90','90+') # Beschriftung der Altersgruppen\n",
    "pop = np.array([20365,25939,37480,9513,982]) # Werte\n",
    "x   = np.arange(np.size(pop))                # Einfache x-Zuordnungen für die Plots\n",
    "fig = plt.figure()                           # Erzeuge Handle für die Graphik als Ganzes\n",
    "ax1 = fig.add_subplot(121)                   # --- Erzeuge linkes Achsensystem ---\n",
    "ax1.barh(x,pop)                              # Horizontales Balkendiagramm\n",
    "ax1.set_yticks(x)                            # Erzeuge Markierungen für jeden Balken (und nur so viele)\n",
    "ax1.set_yticklabels(ref)                     # Beschrifte die Markierungen mit den Altersgruppen\n",
    "ax1.set_title('Bevökerungspyramide')         # Titel\n",
    "ax1.set_xlabel('Tausend Individuen')         # x-Achse\n",
    "ax1.set_ylabel('Altersgruppe')               # y-Achse\n",
    "\n",
    "ax2 = fig.add_subplot(122)                   # --- Erzeuge rechtes Achsensystem ---\n",
    "ax2.plot(x,pop/1000,linestyle=':',marker='o')# Liniengraphik mit Markern\n",
    "ax2.set_xticks(x)                            # Erzeuge Markierungen an der x-Achse für jede Altersgruppe\n",
    "ax2.set_xticklabels(ref)                     # Beschrifte x-Achsen Markierungen\n",
    "ax2.set_title('Bevölkerungszahlen')          # Titel\n",
    "ax2.set_xlabel('Altersgruppe')               # x-Achse\n",
    "ax2.set_ylabel('Millionen')                  # y-Achse\n",
    "\n",
    "fig.set_size_inches(10,5)                    # Definiere Graphik-Größe\n",
    "fig.tight_layout(pad=2.);                    # Erhöhe Abstand zwischen Achsen"
   ]
  },
  {
   "cell_type": "markdown",
   "metadata": {},
   "source": [
    "### Mehrdimensionale Graphen\n",
    "\n",
    "Wir wollen nun Graphiken erzeugen, die von $(x,y)\\in\\mathbb{R}^2$ abhängen. Zunächst erzeugen wir uns ein Gitter im Einheitsquadrat, auf dem wir dann eine Funktion darstellen wollen. Dazu verwenden wir die NumPy Befehle `linspace` und `meshgrid`. Ersterer erzeugt ein Intervall mit 100 Gitterpunkten, und mit `meshgrid` wird aus zwei $x$- und $y$-Intervallen ein Gitter erzeugt, auf das mit Hilfe der Koordinaten $(x,y)$ zugegriffen werden kann.\n",
    "\n",
    "Anschließend erzeugen wir die Werte für die Funktion\n",
    "$$\n",
    "f(x,y) = sin(2\\pi x) * sin(2\\pi y),\n",
    "$$\n",
    "welche wiederum zunächst mit Hilfe von `imshow` bzw. `contour` dargestellt werden soll."
   ]
  },
  {
   "cell_type": "code",
   "execution_count": null,
   "metadata": {},
   "outputs": [],
   "source": [
    "X = np.linspace(0,1,100)                      # x-Koordinaten\n",
    "Y = np.linspace(0,1,100)                      # y-Koordinaten\n",
    "X,Y = np.meshgrid(X,Y)                        # (x,y)-Gitter\n",
    "f = np.sin(2*np.pi*X) * np.sin(2*np.pi*Y)     # Funktion f(x,y)\n",
    "\n",
    "fig2 = plt.figure()                           # Erzeuge Handle für die Graphik als Ganzes\n",
    "ax1 = fig2.add_subplot(121)                   # --- Erstes Achsensystem ---\n",
    "ax1.imshow(f)                                 # Farbdarstellung der Funktion in der (x,y)-Ebene\n",
    "\n",
    "ax2 = fig2.add_subplot(122)                   # --- Zweites Achsensystem ---\n",
    "#ax2.contourf(f)                              # gefüllte Kontouren\n",
    "cont = ax2.contour(f, cmap='viridis');        # Höhenlinien\n",
    "ax2.clabel(cont,fontsize=8);                  # Zahldarstellung an den Höhenlinien\n",
    "\n",
    "fig2.set_size_inches(10,5)                    # Definiere Graphik-Größe\n",
    "fig2.tight_layout(pad=2.);                    # Erhöhe Abstand zwischen Achsen"
   ]
  },
  {
   "cell_type": "markdown",
   "metadata": {},
   "source": [
    "Ein dreidimensionaler Graph lässt sich aus diesen Daten erzeugen. Dazu wollen wir einerseits die Funktion `surf` zur Darstellung einer Oberfläche verwenden. Andererseits müssen wir für die `figure`-Umgebung eine drei-dimensionale Projektion wählen."
   ]
  },
  {
   "cell_type": "code",
   "execution_count": null,
   "metadata": {},
   "outputs": [],
   "source": [
    "fig3 = plt.figure()                      # Erzeuge Graphik\n",
    "ax1 = fig3.gca(projection='3d')          # Definiere 3D Projektion\n",
    "\n",
    "ax1.plot_surface(X,Y,f,cmap='viridis');  # Plotte 3D Oberfläche\n",
    "fig3.set_size_inches(10,5);              # Definiere Graphik-Größe"
   ]
  },
  {
   "cell_type": "markdown",
   "metadata": {},
   "source": [
    "Als letztes wollen wir diese 3D Graphik noch beleuchten, damit sie realistischer daher kommt. Dazu verwenden wir die `LightSource`-Umgebung:"
   ]
  },
  {
   "cell_type": "code",
   "execution_count": null,
   "metadata": {},
   "outputs": [],
   "source": [
    "from matplotlib import cm                    # importiere ColorMap Umgebung\n",
    "from matplotlib.colors import LightSource    # importiere LightSource\n",
    "ls = LightSource(azdeg=340, altdeg=45)       # Definiere den Einstrahlwinkel der Lichtquelle\n",
    "\n",
    "fig3 = plt.figure()                          # Erzeuge Graphik\n",
    "ax1 = fig3.gca(projection='3d')              # Definiere 3D Projektion\n",
    "\n",
    "rgb = ls.shade(f, cmap=cm.viridis, vert_exag=1, blend_mode='soft') # ls.shade erzeugt die Schattenwürfe\n",
    "ax1.plot_surface(X,Y,f,facecolors=rgb);      # Plotte 3D Oberfläche\n",
    "fig3.set_size_inches(10,5);                  # Definiere Graphik-Größe"
   ]
  },
  {
   "cell_type": "markdown",
   "metadata": {},
   "source": [
    "## 5. Animationen\n",
    "\n",
    "Animationen sind etwas aufwändiger zu erzeugen. Wichtig ist dabei die folgende Struktur:\n",
    "1. Eine Funktion (oder ein Programmteil) beschreibt das Aussehen des eigentlichen Plots;\n",
    "2. Eine Funktion beschreibt in Abhängigkeit eines Iterationszählers die Veränderung von Bild zu Bild;\n",
    "3. Die Funktion `FuncAnimation` aus dem Paket `animation` erzeugt dann die Animation.\n",
    "\n",
    "Hier ist ein Beispiel, das ich aus dem [matplotlib Tutorial](https://matplotlib.org/gallery/animation/simple_anim.html) entnommen habe:"
   ]
  },
  {
   "cell_type": "code",
   "execution_count": null,
   "metadata": {},
   "outputs": [],
   "source": [
    "import matplotlib.animation as animation      # lade das animation Paket\n",
    "from IPython.display import HTML              # zur Darstellung im Jupyter Notebook benötigen wir diese Umgebung\n",
    "\n",
    "fig, ax = plt.subplots()                      # erzeuge die Graphik\n",
    "\n",
    "x = np.linspace(0,2*np.pi,100)                # -- der eigentliche Plot, ein einfacher Sinus\n",
    "line, = ax.plot(x, np.sin(x));                # wir erhalten einen handle für die Linie der y-Werte\n",
    "\n",
    "def animate(i):                               # wir definieren eine Funktion für die verschiedenen Frames\n",
    "    line.set_ydata(np.sin(x + i / (5*np.pi))) # Dabei wird die Linie verschoben...\n",
    "    return line,\n",
    "\n",
    "                                              # -- es folgt die Animation\n",
    "ani = animation.FuncAnimation(\n",
    "    fig, animate, interval=20, blit=True, save_count=100)\n",
    "\n",
    "HTML(ani.to_jshtml())                         # diesen Befehl benötigen wir zur Darstellung in Jupyter\n",
    "#ani.save(\"movie.mp4\")                        # um ein Video zu speichern, kann save verwendet werden"
   ]
  },
  {
   "cell_type": "markdown",
   "metadata": {},
   "source": [
    "## 6. Aufgaben\n",
    "\n",
    "1. Aufgabe: Die Funktionen $f(x)=sin(x)$ und $g(x)=x$ sind sich in der Nähe der Null recht ähnlich. Das wollen wir uns graphisch veranschaulichen, indem wir die beiden Funktionsgraphen im Intervall $[-\\frac{1}{2},\\frac{1}{2}]$ plotten. Stellen Sie $f$ in rot und $g$ in blau dar und plotten Sie beide in das selbe Achsensystem. Eine Legende wäre schön, damit ein:e Betrachter:n weiß, welche Farbe zu welcher Funktion gehört."
   ]
  },
  {
   "cell_type": "code",
   "execution_count": null,
   "metadata": {},
   "outputs": [],
   "source": []
  },
  {
   "cell_type": "markdown",
   "metadata": {},
   "source": [
    "2. Aufgabe: Erstellen Sie eine Graphik, in der die Funktion\n",
    "$$\n",
    "f: [0,2\\pi]^2 \\rightarrow \\mathbb{R},\\ (x,y) \\mapsto \\sin(x)*\\cos(x)*x^2\n",
    "$$\n",
    "in dreidimensionaler Projektion dargestellt wird. Wählen Sie sinnvolle Achsenbeschriftungen, und einen Titel. Versuchen Sie eine Farbpalette zu wählen, die von blau zu rot übergeht (Hinweis: 'cool')."
   ]
  },
  {
   "cell_type": "code",
   "execution_count": null,
   "metadata": {},
   "outputs": [],
   "source": []
  },
  {
   "cell_type": "markdown",
   "metadata": {},
   "source": [
    "---\n",
    "1) <span id=\"fn1\">Copyright Notice:\n",
    "    \n",
    "    Visualisierung mit matplotlib, Copyright (C) 2020  Jörn Behrens\n",
    "    \n",
    "        Prof. Dr. Jörn Behrens\n",
    "        Universität Hamburg, Dept. Mathematik\n",
    "        Bundesstrasse 55\n",
    "        20146 Hamburg, Germany\n",
    "        joern.behrens@uni-hamburg.de\n",
    "\n",
    "    This program is free software; you can redistribute it and/or modify\n",
    "    it under the terms of the GNU General Public License as published by\n",
    "    the Free Software Foundation; either version 2 of the License, or\n",
    "    (at your option) any later version.\n",
    "\n",
    "    This program is distributed in the hope that it will be useful,\n",
    "    but WITHOUT ANY WARRANTY; without even the implied warranty of\n",
    "    MERCHANTABILITY or FITNESS FOR A PARTICULAR PURPOSE.  See the\n",
    "    GNU General Public License for more details.\n",
    "\n",
    "    You should have received a copy of the GNU General Public License along\n",
    "    with this program; if not, write to the Free Software Foundation, Inc.,\n",
    "    51 Franklin Street, Fifth Floor, Boston, MA 02110-1301 USA.\n",
    "\n",
    "\n",
    "</span>"
   ]
  },
  {
   "cell_type": "code",
   "execution_count": null,
   "metadata": {},
   "outputs": [],
   "source": []
  }
 ],
 "metadata": {
  "kernelspec": {
   "display_name": "Python 3",
   "language": "python",
   "name": "python3"
  },
  "language_info": {
   "codemirror_mode": {
    "name": "ipython",
    "version": 3
   },
   "file_extension": ".py",
   "mimetype": "text/x-python",
   "name": "python",
   "nbconvert_exporter": "python",
   "pygments_lexer": "ipython3",
   "version": "3.7.7"
  }
 },
 "nbformat": 4,
 "nbformat_minor": 4
}
