{
 "cells": [
  {
   "cell_type": "markdown",
   "metadata": {},
   "source": [
    "_Softwarepraktikum Blockkurs März 2020 (WS2019/20)_ "
   ]
  },
  {
   "cell_type": "markdown",
   "metadata": {},
   "source": [
    "# Einführung in Numerische Programmierung[<sup>1</sup>](#fn1)"
   ]
  },
  {
   "cell_type": "markdown",
   "metadata": {},
   "source": [
    "[Jörn Behrens](https://www.math.uni-hamburg.de/numgeo/) (joern.behrens@uni-hamburg.de)"
   ]
  },
  {
   "cell_type": "markdown",
   "metadata": {},
   "source": [
    "## 1. Einführung und Ziel\n",
    "\n",
    "In diesem Notebook wird die Numerische Programmierung eingeführt. Zunächst werden wir über Fließkommazahlen und deren Eigenschaften reflektieren. Anschließend lernen wir verschiedene grundlegende Python Konstrukte kennen, die im Umgang mit numerischen Berechnungen wichtig sind.\n",
    "\n",
    "Wir werden die Einführung in die NumPy Arrays aus dem Notebook [06 - Visualization](06%20-%20Visualization%20with%20Matplotlib.ipynb) an dieser Stelle nicht wiederholen, sie gehören aber natürlich zu den Voraussetzungen für dieses Notebook."
   ]
  },
  {
   "cell_type": "markdown",
   "metadata": {},
   "source": [
    "## 2. Fließkommazahlen\n",
    "\n",
    "In der numerischen Programmierung ist es wichtig zu verstehen, dass viele der Rechenregeln nur näherungsweise gelten. Der Computer speichert Zahlen als endliche binäre Ziffernreihen. Insbesondere irrationale Zahlen, die eigentlich unendliche Dezimalzahlen darstellen, können als nur näherungsweise im Computer dargestellt werden.\n",
    "\n",
    "Hier ein paar Beispiele:"
   ]
  },
  {
   "cell_type": "code",
   "execution_count": null,
   "metadata": {},
   "outputs": [],
   "source": [
    "import numpy as np\n",
    "from convtool import *\n",
    "print('Ein Zehntel Fließkomma : ',1/10,' und Binär: ',float2bin(1/10))\n",
    "print('Kreiszahl pi Fließkomma: ',np.pi,' und Binär: ',float2bin(np.pi))\n",
    "print('Die Null Fließkomma    : ',0.0,' und Binär: ',float2bin(0.0))\n",
    "print('Die Eins Fließkomma    : ',1.0,' und Binär: ',float2bin(1.0))"
   ]
  },
  {
   "cell_type": "markdown",
   "metadata": {},
   "source": [
    "An den Beispielen sieht man, dass schon so einfache Zahlen wie $\\frac{1}{10} = 0.1$ nicht als endliche Binärzahl gespeichert werden können und daher nicht exakt im Computer repräsentiert sind.\n",
    "\n",
    "Die Abweichung, die wir in der Regel erwarten können ist durch die Maschinengenauigkeit $\\epsilon$ gegeben, die wir immer im normierten Interval, also bei der 1, ermitteln. Diese Zahl kann mit der NumPy Methode `eps` ermittelt werden:"
   ]
  },
  {
   "cell_type": "code",
   "execution_count": null,
   "metadata": {},
   "outputs": [],
   "source": [
    "print('Maschinengenauigkeit für standard float Typ: ',np.finfo(float).eps)\n",
    "print('Maschinengenauigkeit für 32 bit float Typ  : ',np.finfo(np.float32).eps)"
   ]
  },
  {
   "cell_type": "markdown",
   "metadata": {},
   "source": [
    "### Rundungsfehler\n",
    "\n",
    "Wenn wir wiederholt Berechnungen mit Rundungsfehler ausführen, kann das schon recht schnell zu sichtbaren Fehlern führen. Das demonstriere ich hier: Wir erstellen ein Array mit 101 Einträgen von 0 bis 10 mit Schrittweiten 0.1. Im ersten Fall verwende ich einfach ein Array Konstrukt, im zweiten Fall berechne ich die einzelnen Einträge, indem ich jeweils 0.1 zum vorherigen Ergebnis aufaddiere. Schließlich vergleiche ich beide Einträge am Ende des Vektors (also jeweils den Eintrag, der den Wert 10 haben sollte):"
   ]
  },
  {
   "cell_type": "code",
   "execution_count": null,
   "metadata": {},
   "outputs": [],
   "source": [
    "# generiere ein array von 0..10\n",
    "x1 = np.arange(0,10.1,0.1)\n",
    "\n",
    "# generiere ein analoges array indem jeweils 1/10 addiert wird\n",
    "x2 = np.arange(0.0)\n",
    "x2= np.append(x2,[0.0])\n",
    "for i in range(1,101):\n",
    "    t = x2[i-1]+ 0.1\n",
    "    x2 = np.append(x2,[t])\n",
    "\n",
    "print('x1[-1] : ',x1[-1])\n",
    "print('x2[-1] : ',x2[-1])\n",
    "print('Differenz x1-x2 : ',(x1[-1] - x2[-1]))"
   ]
  },
  {
   "cell_type": "markdown",
   "metadata": {},
   "source": [
    "Hier haben wir 100 Operationen ausgeführt und damit einen Fehler in der 14. Nachkommastelle erzeugt, wobei die Darstellung von $\\frac{1}{10}$ auf 16 Nachkommastellen genau ist. Wir haben also - logischerweise - in $10^2$ Operationen zwei Dezimalstellen an Genauigkeit verloren.\n",
    "\n",
    "Manchmal kann man aber schon in einer Operation einen signifikanten Unterschied erzielen:"
   ]
  },
  {
   "cell_type": "code",
   "execution_count": null,
   "metadata": {},
   "outputs": [],
   "source": [
    "diff3 = np.abs(3. - (0.3/0.1))\n",
    "print('3 - 0.3/0.1 in Fließkommaoperationen: ', diff3)"
   ]
  },
  {
   "cell_type": "markdown",
   "metadata": {},
   "source": [
    "**Bemerkung:** Wir behalten dieses Verhalten bei numerischen Berechnungen jetzt im Hinterkopf. In der Numerischen Mathematik geht es also vor allem darum, Berechnungen auf dem Computer so durchzuführen, dass diese Rundungsfehler die erwarteten Ergebnisse nicht mehr verfälschen, als unvermeidbar ist."
   ]
  },
  {
   "cell_type": "markdown",
   "metadata": {},
   "source": [
    "## 3. Erzeugung von Arrays\n",
    "\n",
    "Im folgenden werden wir eine Reihe von funktionen kennen lernen, mit deren Hilfe wir uns Daten erzeugen können. Häufig benötigen wir einfache Gitter, Folgen von reellen (aka Fließkomma-) Zahlen, einfache Matrizen.\n",
    "\n",
    "Hier sind eine Reihe von Befehlen, die Nützlich sind:\n",
    "\n",
    "* `arange` erzeugt allgemein einen Vektor mit konsekutiven Werten\n",
    "* `array` erzeugt ein array ausgegebenen Werten\n",
    "* `matrix` erzeugt ein objekt des Typs Matrix aus gegebenen Werten\n",
    "* `eye`, `ones`, `zeros`, `tri` erzeugen spezielle Vektoren oder Matrizen: Einheitsmatrix, Einsen, Nullen, (untere) Dreiecksmatrix\n",
    "* `diag`, `triu`, `tril` extrahieren Diagonale, untere oder obere Dreiecksmatrizen\n",
    "\n",
    "Hier sind entsprechende Beispiele:"
   ]
  },
  {
   "cell_type": "code",
   "execution_count": null,
   "metadata": {},
   "outputs": [],
   "source": [
    "vec = np.arange(20)               # erzeugt Vektor der Länge 20 mit Einträgen 0..19.\n",
    "Id1 = np.matrix('1. 0.; 0. 1.')   # erzeugt 2x2-Einheitsmatrix (Typ matrix)\n",
    "Id2 = np.array([[1.,0.],[0.,1.]]) # erzeugt 2x2-Einheitsmatrix (Typ array)\n",
    "Id3 = np.eye(2)                   # erzeugt ebenfalle 2x2-Einheitsmatrix (Typ array)\n",
    "print('arange:\\n',vec)\n",
    "print('matrix:\\n',Id1)\n",
    "print('array:\\n',Id2)\n",
    "print('eye:\\n',Id3)"
   ]
  },
  {
   "cell_type": "code",
   "execution_count": null,
   "metadata": {},
   "outputs": [],
   "source": [
    "m = np.matrix('3,2,1;4,5,6;9,8,7')\n",
    "print('Matrix m:\\n', m)\n",
    "print('Diagonale:\\n', np.diag(m))\n",
    "print('Obere Dreiecksmatrix:\\n', np.triu(m))"
   ]
  },
  {
   "cell_type": "markdown",
   "metadata": {},
   "source": [
    "### linspace und meshgrid\n",
    "\n",
    "Wir hatten die Befehle`linspace` und `meshgrid` schon in der Visualisierung kennen gelernt. Hier wollen wir sie noch einmal genauer betrachten. `linspace` erzeugt eine Reihe von \"Gitterpunkten\" mit definierter Anfangs- und Endkoordinate, die gleichmäßig über das gegebene Intervall verteilt sind. Per default werden 50 solcher Punkte erzeugt. Hier ist ein Beispiel für das Einheitsintervall:"
   ]
  },
  {
   "cell_type": "code",
   "execution_count": null,
   "metadata": {},
   "outputs": [],
   "source": [
    "x = np.linspace(0.,1.)\n",
    "print('Länge von x: ',x.size)\n",
    "print('Erste zwei und letzte zwei Einträge von x:\\n',x[:2],' [...] ',x[-2:])"
   ]
  },
  {
   "cell_type": "markdown",
   "metadata": {},
   "source": [
    "Mit dem Befehl `meshgrid` lässt sich nun ein mehrdimensionales Gitter erzeugen. Wir werden das hier für ein zwei-dimensionales Gitter vorführen, wobei wir in beiden dimensionen die gleiche Koordinateneinteilung des Einheitsintervalls (wie oben) verwenden. Die Rückgabevektoren sind jeweils Arrays der Größe (`x.size` $\\times$ `x.size`), wobei die X-Koordinaten jeweils in y-Richtung wiederholt werden und die Y-Koordinaten in x-Richtung."
   ]
  },
  {
   "cell_type": "code",
   "execution_count": null,
   "metadata": {},
   "outputs": [],
   "source": [
    "X,Y = np.meshgrid(x,x)\n",
    "X.shape"
   ]
  },
  {
   "cell_type": "markdown",
   "metadata": {},
   "source": [
    "## 4. Vordefinierte Funktionen\n",
    "\n",
    "In NumPy gibt es eine große Menge vorgefertigter Funktionen für alle möglichen Zwecke. Natürlich können wir trigonometrische Funktionen verwenden, ebenso die Exponentialfunktion und Logarithmen. Wichtig ist hier, dass die Funktionen nicht nur auf einzelne Werte anwendbar sind, sondern elementweise auf ganze Vektoren oder Matrizen. Das haben wir auch in der Einführung der Visualisierung schon verwendet. Hier daher nur ein paar wenige Beispiele. Diese Klasse von Funktionen nennen sich _Universal Funktions_ (`ufunc`) und es findetn sich über 60 solcher Funktionen in NumPy.\n",
    "\n",
    "* spezielle Zahlen: Unendlich - `inf`, Not a Number - `nan`\n",
    "* einfache Operationen: `add` oder `+`, `multiply` oder `*`, \n",
    "* trigonometrische Funktionen: `sin`, `cos`, `tan`, `arcsin`,`sinh`,`radians`, etc.\n",
    "* Rundungen und Vorzeichen: `fabs`, `sign`, `rint`, `floor_divide`, etc.\n",
    "* Exponentialfunktion, Potenzen und Logarithmus: `exp`, `exp2`, `power`, `square`, `sqrt`, `log`, `log10`, etc.\n",
    "* Vergleich: `greater` oder `>`, `less` oder `<`, `equal` oder `==`, `maximum`, `minimum`, etc."
   ]
  },
  {
   "cell_type": "code",
   "execution_count": null,
   "metadata": {},
   "outputs": [],
   "source": [
    "print('Sinus einer einzelnen Zahl sin(pi/2):\\n', np.sin(np.pi/2))\n",
    "z=np.arange(5)*np.pi/4 + np.pi\n",
    "print('Sinuns angewandt auf Vektor sin(z):\\n', np.sin(z))\n",
    "print('Beträge der eben berechneten Werte:\\n', np.fabs(np.sin(z)))\n",
    "print('Elementweises Maximum von z und sin(z):\\n', np.maximum((z-np.pi),np.sin(z)))\n",
    "print('El. Minimum von[0 1 inf] und [nan inf nan]:\\n', np.minimum([0,1,np.inf],[np.nan,np.inf,np.nan]))"
   ]
  },
  {
   "cell_type": "markdown",
   "metadata": {},
   "source": [
    "### Fouriertransformation\n",
    "\n",
    "Die Schnelle Fouriertransformation, eingeführt von [James W. Cooley und John W. Tuckey (1965)](https://doi.org/10.1090/S0025-5718-1965-0178586-1), ist ein \"game-changing\" Algorithmus. Die Implementation findet sich in Numpy natürlich in einer schnellen, maschinen-optimierten Version.\n",
    "\n",
    "* Fourier-Transformation in 1D: `fft`, inverse Fourier-Transformation in 1D: `ifft`\n",
    "* das gleiche in 2D: `fft2`, `ifft2`\n",
    "\n",
    "Diese Funktionen werden Sie für die eigene Implementation benötigen und es wird dazu ein eigenes Blatt geben, daher verzichten wir hier auf die Beispiele.\n",
    "\n",
    "**Bemerkung:** Eine erweiterte Funktionalität und noch schnellere implementierte Algorithmen finden sich in  SciPy. Die Erweiterungen betreffen bestimmte Eigenschaften der Daten, beispielsweise reelle Daten, Hermitische (symmetrische) Daten, ein- bis mehr-dimensionale Daten. Auch diskrete Sinus- und Cosinus-Transformationen sind verfügbar. Hier eine Auswahl\n",
    "\n",
    "* `fft`, `fft2`, `fftn`, `rfft`, `hfft` für die Vorwärts-Transformation\n",
    "* `ifft`, `ifft2`, `ifftn`, `irfft`, `ihfft` für die inverse Transformation\n",
    "* `dct`, `dctn`, `dst`, `dstn` für die Cosinus- und Sinus-Transformation\n",
    "* `idct`, `idctn`, `idst`, `idstn` für die Inversen dazu"
   ]
  },
  {
   "cell_type": "markdown",
   "metadata": {},
   "source": [
    "### Lineare Algebra\n",
    "\n",
    "Das Arbeiten mit Matrizen und Vektoren und entsprechende Funktionen der angewandten Linearen Algebra sind eine Stärke von NumPy. Dazu gibt es eine Vielzahl von Funktionen, von denen hier einige wichtige vorgestellt werden. Einige dieser Funktionen sind im Untermodul `linalg` enthalten.\n",
    "\n",
    "* Vektorprodukte: `dot`, `inner`, `outer`\n",
    "* Matrixprodukte: `matmul`, `linalg.matrix_power`\n",
    "* Zerlegungen (linalg): `qr`, `cholesky`, `svd`\n",
    "* Eigenwerte (linalg): `eig`, `eigvals`\n",
    "* Normen und Werte (linalg): `det`, `cond`, `norm`, `matrix_rank`, `trace`\n",
    "\n",
    "Hier ein paar Anwendungen:"
   ]
  },
  {
   "cell_type": "code",
   "execution_count": null,
   "metadata": {},
   "outputs": [],
   "source": [
    "# generiere eine (5x5) Zufallsmatrix\n",
    "A = np.random.rand(5,5)\n",
    "print('Matrix A und A*A:\\n', A, '\\n\\n', np.matmul(A,A))\n",
    "print('Eigenwerte der Matrix:\\n',np.linalg.eigvals(A))\n",
    "Q,R = np.linalg.qr(A)\n",
    "print('QR-Zerlegung der Matrix:\\nQ:\\n',Q,'\\nR:\\n',R)\n",
    "print('Kondition und Rang der Matrix: ', np.linalg.cond(A),' , ', np.linalg.matrix_rank(A))"
   ]
  },
  {
   "cell_type": "markdown",
   "metadata": {},
   "source": [
    "### Lineare Algebra im Modul SciPy\n",
    "\n",
    "Das Modul **SciPy** enthält eine Vielzahl weiterer Funktionen, die über die in NumPy enthaltenen hinausgehen. Insbesondere für die in `linalg` enthaltenen Funkionen bietet SciPy eine Reihe von Vorteilen. Zum einen gibt es weiter über NumPy hinausgehende Funktionen. Als Beispiel\n",
    "\n",
    "| NumPy linalg | SciPy linalg |\n",
    "|:-------------|:-------------|\n",
    "| qr | qr |\n",
    "| svd | svd |\n",
    "| cholesky | cholesky |\n",
    "| - | lu |\n",
    "| - | shur |\n",
    "| - | interpolative |\n",
    "\n",
    "Hier ist eine Auswahl an SciPy Untermodulen, die für viele numerische Berechnungen sehr hilfreich sind.\n",
    "\n",
    "* Spezielle Funktionen `cipy.special`\n",
    "* Integration und Lösung von gewöhnlichen Differentialgleichungen `scipy.integrate`\n",
    "* Optimierung `scipy.optimize`\n",
    "* Interpolation `scipy.interpolate`\n",
    "* Fourier Transformation `scipy.fft`\n",
    "* Signal Verarbeitung `scipy.signal`\n",
    "* Lineare Algebra `scipy.linalg`\n",
    "* Räumliche Datenstrukturen und Algorithmen `scipy.spatial`\n",
    "* Statistik `scipy.stats`\n",
    "* Mehrdimensionale Bildverarbeitung `scipy.ndimage`\n",
    "\n",
    "Wir werden in einem folgenden Notebook auf einige dieser Fähigkeiten zurück kommen."
   ]
  },
  {
   "cell_type": "markdown",
   "metadata": {},
   "source": [
    "### Beispiel Cholesky Faktorisierung\n",
    "\n",
    "Sie kennen wahrscheinlich den Gauß-Algorithmus zur Lösung linearer Gleichungssysteme. Die moderne Form für allgemeine Matrizen ist eine $LU$-Zerlegung in eine obere und untere Dreiecksmatrix, die dann jeweils mit einer Vorwärts- bzw. Rückwärtssubstitution gelöst werden kann. In mathematischer Sprache ausgedrückt\n",
    "$$\n",
    "Ax = b\\quad\\textsf{wird\\ ersetzt\\ durch}\\quad LUx = b,\n",
    "$$\n",
    "wobei $A=LU$ ist. Anschließend löst man die beiden Dreiecks-Systeme\n",
    "\\begin{align}\n",
    "Ly &= b,\\\\\n",
    "Ux &= y.\n",
    "\\end{align}\n",
    "Ist die Matrix symmetrisch positiv definit (s.p.d.), dann kann man eine Vereinfachung der $LU$-Zerlegung, nämlich die *Cholesky-Zerlegung* verwenden, die in ihrer Struktur schon die Symmetrie der Matrix annimmt und auch aus der positiv Definitheit schließt, dass kein Pivot gesucht werden muss. \n",
    "\n",
    "Um das folgende Beispiel auszuführen, benötigen wir eine Reihe von Service-Routinen, die ich hier importiere."
   ]
  },
  {
   "cell_type": "code",
   "execution_count": null,
   "metadata": {},
   "outputs": [],
   "source": [
    "from time import time\n",
    "from numpy import shape, zeros, transpose, sqrt, dot, matrix, array, tril\n",
    "from numpy.linalg import norm, cholesky\n",
    "from numpy.random import rand\n",
    "from scipy.linalg import cholesky as scholesky"
   ]
  },
  {
   "cell_type": "markdown",
   "metadata": {},
   "source": [
    "Ich möchte den Algorithmus hier gar nicht genauer erklären, sondern auf einen anderen Aspekt eingehen, die Performanz. Schreibt man den Algorithmus Zeile für Zeile auf, so lautet er"
   ]
  },
  {
   "cell_type": "code",
   "execution_count": null,
   "metadata": {},
   "outputs": [],
   "source": [
    "def cholesky1(A):\n",
    "    [n,n] = shape(A)\n",
    "    L = zeros((n,n))\n",
    "    for j in range(n):\n",
    "        L[j,j] = sqrt( A[j,j] - dot(L[j,0:j],transpose(L[j,0:j])) )\n",
    "        for i in range(j+1,n):\n",
    "            L[i,j] = ( A[i,j] - dot(L[i,0:j],transpose(L[j,0:j])) )/L[j,j]\n",
    "    return L"
   ]
  },
  {
   "cell_type": "markdown",
   "metadata": {},
   "source": [
    "Um die Effizienz in Python zu steigern, vermeidet man nach Möglichkeit `for`-Schleifen. Wenn wir die innere Schleife durch eine Vektor-Notierung ersetzen, dann entspricht das einer Matrix-Vektor-Operation, die durch eine effiziente interne Funktion ersetzt werden kann:"
   ]
  },
  {
   "cell_type": "code",
   "execution_count": null,
   "metadata": {},
   "outputs": [],
   "source": [
    "def cholesky2(A):\n",
    "    [n,n] = shape(A)\n",
    "    L = zeros((n,n))\n",
    "    for j in range(n):\n",
    "        L[j,j] = sqrt( A[j,j] - dot(L[j,0:j],transpose(L[j,0:j])) )\n",
    "        L[j+1:n,j] = ( A[j+1:n,j] - dot(L[j+1:n,0:j+1],transpose(L[j,0:j+1])) )/L[j,j]\n",
    "    return L"
   ]
  },
  {
   "cell_type": "markdown",
   "metadata": {},
   "source": [
    "Schließlich kann auch die NumPy oder auch die SciPy `cholesky` Implementierung aufgerufen werden. Um diese Aufrufe alle gegeneinander auf ihre Laufzeiteigenschaften zu testen, benötigen wir eine Zeitmessung und eine Funktion, die uns s.p.d. Matrizen erzeugt. Beides habe ich unten definiert."
   ]
  },
  {
   "cell_type": "code",
   "execution_count": null,
   "metadata": {},
   "outputs": [],
   "source": [
    "class Timer(object):\n",
    "    \"\"\"gives analogue results as matlabs tic and toc function\n",
    "    usage:\n",
    "    with Timer():\n",
    "    ###do some stuff here###\n",
    "    \"\"\"\n",
    "    def __init__(self, disp=True):\n",
    "        self.disp = disp\n",
    "\n",
    "    def __enter__(self):\n",
    "        self.tic = time()\n",
    "\n",
    "    def __exit__(self, type, value, traceback):\n",
    "        self.toc = time() - self.tic\n",
    "        if self.disp:\tprint('Elapsed time is %6.6f' % (self.toc) + ' seconds')"
   ]
  },
  {
   "cell_type": "code",
   "execution_count": null,
   "metadata": {},
   "outputs": [],
   "source": [
    "def spd(n):\n",
    "    B = rand(n,n)\n",
    "    A = dot(B,transpose(B))\n",
    "    return A"
   ]
  },
  {
   "cell_type": "markdown",
   "metadata": {},
   "source": [
    "Nun schauen wir uns an, wie schnell die jeweilige Funktion eine Zerlegung eine ($1000\\times 1000$)-Matrix bewerkstelligt:"
   ]
  },
  {
   "cell_type": "code",
   "execution_count": null,
   "metadata": {},
   "outputs": [],
   "source": [
    "# Größe der Matrix\n",
    "n = 1000\n",
    "A = spd(n)\n",
    "  \n",
    "print('Level 1 BLAS Cholesky factorization')\n",
    "with Timer(): L1=cholesky1(A)\n",
    "  \n",
    "print('Level 2 BLAS Cholesky factorization')\n",
    "with Timer(): L2=cholesky2(A)\n",
    "\n",
    "print('Level 3 BLAS Cholesky factorization from numpy')\n",
    "with Timer(): LL=cholesky(A)\n",
    "\n",
    "print('Level 3 BLAS Cholesky factorization from scipy')\n",
    "with Timer(): LS=scholesky(A,lower=True)"
   ]
  },
  {
   "cell_type": "markdown",
   "metadata": {},
   "source": [
    "Es gibt also erhebliche Unterschiede, die naive Implementierung ist der SciPy Version um einen Faktor 140 unterlegen! Alle Funktionen führen die selbe Operation aus! Das können wir testen, indem wir die Normen der Matrizen miteinander vergleichen. Wir nehmen dazu an, dass die fertig implementierten Funktionen `cholesky` aus SciPy und NumPy richtig rechnen:"
   ]
  },
  {
   "cell_type": "code",
   "execution_count": null,
   "metadata": {},
   "outputs": [],
   "source": [
    "print('Relativer Fehler von BLAS Level 1 Cholesky   :' + '%12.9e' % (norm(LL-L1)/norm(LL)))\n",
    "print('Relativer Fehler von BLAS Level 1 Cholesky   :' + '%12.9e' % (norm(LL-L2)/norm(LL)))\n",
    "print('Relativer Fehler von SciPy und NumPy Cholesky:' + '%12.9e' % (norm(LL-LS)/norm(LL)))"
   ]
  },
  {
   "cell_type": "markdown",
   "metadata": {},
   "source": [
    "## 5. Sortieren und Finden\n",
    "\n",
    "NumPy stellt eine Reihe von sehr hilfreichen Funktionen zur Verfügung, die es einem ermöglichen, in großen Vektoren oder Matrizen einzelne Einträge zu finden, oder auch Vektoren zu sortieren.\n",
    "\n",
    "* Sortieren: `sort`, `msort`, `lexsort`, `sort_complex`\n",
    "* Finden: `argmax`, `argmin`, `argwhere`, `where`, `nonzero`, `extract`\n",
    "\n",
    "Wieder ein paar Beispiele. Zunächst erzeugen wir uns einen Vektor, auf den wir dann die Methoden anwenden."
   ]
  },
  {
   "cell_type": "code",
   "execution_count": null,
   "metadata": {},
   "outputs": [],
   "source": [
    "a = np.array([1, 2, 3, 0, 7, 6, 5, np.inf, 4])\n",
    "print('Vektor a sortiert:\\n',np.sort(a))\n",
    "print('Index des Maximums im Vektor: ',np.argmax(a), ' und dessen Wert: ',a[np.argmax(a)])\n",
    "print('Index des Minimums im Vektor: ',np.argmin(a), ' und dessen Wert: ',a[np.argmin(a)])\n",
    "i = np.where(a==5) # Rückgabewert ist immer ein array, daher werten wir i aus.\n",
    "print('Index an dem a den Wert 5 annimmt: ',i[0])\n",
    "print('Vektor aller Werte größer 3:\\n',np.extract(a>3,a))"
   ]
  },
  {
   "cell_type": "markdown",
   "metadata": {},
   "source": [
    "## 6. Einlesen und Schreiben von einfachen Dateien\n",
    "\n",
    "Zum Einlesen von Daten oder auch speichern von Daten lässt sich sehr viel sagen. Python ist ein extrem mächtiges Werkzeug, um alle möglichen Datenformate von allen möglichen Orten zu lesen, zu konvertieren, zu verarbeiten und wieder zu speichern. Das würde weit über den Rahmen dieses Kurses hinaus gehen.\n",
    "\n",
    "Daher werden wir es hier bei einfachen Funktionen zum Lesen und Schreiben von ASCII (also Text) Dateien bewenden lassen. Die beiden wesentlichen Tools dafür sind\n",
    "\n",
    "* `loadtxt`\n",
    "* `savetxt`\n",
    "\n",
    "Wir werden das kurz an einem Beispiel zeigen:"
   ]
  },
  {
   "cell_type": "code",
   "execution_count": null,
   "metadata": {},
   "outputs": [],
   "source": [
    "np.savetxt('a_save.txt',a)\n",
    "np.savetxt('LS_save.txt.gz',LL)"
   ]
  },
  {
   "cell_type": "markdown",
   "metadata": {},
   "source": [
    "Als nächstes schauen wir uns an, welche Dateien im Verzeichnis gelandet sind. Das geschieht in der Ausführungszeile mit einem vorangestellten `!`-Zeichen. Auf dem Mac oder unter Linux kann man sich die Dateien mit dem Befehl `ls` (für list) ansehen. Unter Windows sollte das mit dem Befehl `dir` gehen. Die Matrix $LL$ hat immerhin 1000 $\\times$ 1000 = 1 Mio. Einträge, daher ist sie als komprimierte (.gz) Datei geschrieben worden (_ob das unter Windows so funktioniert, weiß ich nicht..._). Den `cat` Befehl verwende ich, um den Inhalt der reinen txt-Datei anzuzeigen (_das geht unter Windows wahrscheinlich nicht_)."
   ]
  },
  {
   "cell_type": "code",
   "execution_count": null,
   "metadata": {},
   "outputs": [],
   "source": [
    "!ls -l *.txt*\n",
    "!cat a_save.txt"
   ]
  },
  {
   "cell_type": "markdown",
   "metadata": {},
   "source": [
    "Nun lesen wir diese Dateien wieder ein:"
   ]
  },
  {
   "cell_type": "code",
   "execution_count": null,
   "metadata": {},
   "outputs": [],
   "source": [
    "a_new = np.loadtxt('a_save.txt')\n",
    "print('Eingelesenes a:\\n',a_new)\n",
    "L_new = np.loadtxt('LS_save.txt.gz')\n",
    "print('Erste 10 Sub-Diagonalelemente des eingelesenen L:\\n',np.diag(L_new,-1)[:10])\n",
    "print('Zum Vergleich die Elemente des Original LS:\\n',np.diag(LS,-1)[:10])"
   ]
  },
  {
   "cell_type": "markdown",
   "metadata": {},
   "source": [
    "## 7. Aufgaben\n",
    "\n",
    "1. **Aufgabe (Hilbertmatrix)**: Erzeugen sie mittels des Befehls `hilbert` aus dem Paket SciPy.linalg eine Hilbertmatrix der Größe $5\\times 5$. Überprüfen Sie die Kondition der Matrix und berechnen sie die Matrix-Norm. Weiter berechnen Sie die LU-Zerlegung und die Cholesky-Zerlegung. Beide unterscheiden sich, unter anderem, weil die LU-Zerlegung eine Spalten-Permutation während der Berechnung vornimmt."
   ]
  },
  {
   "cell_type": "code",
   "execution_count": null,
   "metadata": {},
   "outputs": [],
   "source": []
  },
  {
   "cell_type": "markdown",
   "metadata": {},
   "source": [
    "2. **Aufgabe (Arrays und Fuktionen)**: \n",
    " * Erzeugen Sie einen Vektor aus Zufallszahlen der Länge 100. \n",
    " * Erzeugen Sie einen zweiten Vektor aus absteigenden ganzen Zahlen von 99-0 (also ebenfalls der Länge 100).\n",
    " * Berechnen Sie das Skalarprodukt beider Vektoren.\n",
    " * Skalieren Sie den zweiten Vektor mit 10 und berechnen Sie den Mittelwert (recherchieren Sie, welche Funktion sich dafür eignet)"
   ]
  },
  {
   "cell_type": "code",
   "execution_count": null,
   "metadata": {},
   "outputs": [],
   "source": []
  },
  {
   "cell_type": "markdown",
   "metadata": {},
   "source": [
    "---\n",
    "1) <span id=\"fn1\">Copyright Notice:\n",
    "    \n",
    "    Einführung in Numerische Programmierung, Copyright (C) 2020  Jörn Behrens\n",
    "    \n",
    "        Prof. Dr. Jörn Behrens\n",
    "        Universität Hamburg, Dept. Mathematik\n",
    "        Bundesstrasse 55\n",
    "        20146 Hamburg, Germany\n",
    "        joern.behrens@uni-hamburg.de\n",
    "\n",
    "    This program is free software; you can redistribute it and/or modify\n",
    "    it under the terms of the GNU General Public License as published by\n",
    "    the Free Software Foundation; either version 2 of the License, or\n",
    "    (at your option) any later version.\n",
    "\n",
    "    This program is distributed in the hope that it will be useful,\n",
    "    but WITHOUT ANY WARRANTY; without even the implied warranty of\n",
    "    MERCHANTABILITY or FITNESS FOR A PARTICULAR PURPOSE.  See the\n",
    "    GNU General Public License for more details.\n",
    "\n",
    "    You should have received a copy of the GNU General Public License along\n",
    "    with this program; if not, write to the Free Software Foundation, Inc.,\n",
    "    51 Franklin Street, Fifth Floor, Boston, MA 02110-1301 USA.\n",
    "\n",
    "\n",
    "</span>"
   ]
  },
  {
   "cell_type": "code",
   "execution_count": null,
   "metadata": {},
   "outputs": [],
   "source": []
  }
 ],
 "metadata": {
  "kernelspec": {
   "display_name": "Python 3",
   "language": "python",
   "name": "python3"
  },
  "language_info": {
   "codemirror_mode": {
    "name": "ipython",
    "version": 3
   },
   "file_extension": ".py",
   "mimetype": "text/x-python",
   "name": "python",
   "nbconvert_exporter": "python",
   "pygments_lexer": "ipython3",
   "version": "3.7.7"
  }
 },
 "nbformat": 4,
 "nbformat_minor": 4
}
