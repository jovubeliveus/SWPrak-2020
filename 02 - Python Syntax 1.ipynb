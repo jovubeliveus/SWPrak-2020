{
 "cells": [
  {
   "cell_type": "markdown",
   "metadata": {},
   "source": [
    "_Softwarepraktikum Blockkurs März 2021 (WS2020/21)_"
   ]
  },
  {
   "cell_type": "markdown",
   "metadata": {},
   "source": [
    "# Python Syntax 1[<sup>1</sup>](#fn1)"
   ]
  },
  {
   "cell_type": "markdown",
   "metadata": {},
   "source": [
    "[Jörn Behrens](https://www.math.uni-hamburg.de/numgeo/) (joern.behrens@uni-hamburg.de)"
   ]
  },
  {
   "cell_type": "markdown",
   "metadata": {},
   "source": [
    "## 1. Einführung und Ziel\n",
    "\n",
    "Nachdem wir ein Notebook anlegen und ein paar einfache Beispielrechnungen erledigt haben, wollen wir nun die Python Syntax besser lernen. \n",
    "\n",
    "### Voraussetzungen\n",
    "\n",
    "Wir benötigen ein neues Jupyter Notebook, gehen davon aus, dass Python 3 mit den Standard-Umgebungen vorhanden ist."
   ]
  },
  {
   "cell_type": "markdown",
   "metadata": {},
   "source": [
    "## 2. Python Konstrukte\n",
    "\n",
    "Bevor wir wirklich einsteigen, noch eine Vorbemerkung: Damit wir unseren Code gut strukturieren und auch gleich kommentieren können benötigen wir kommentare. Die lassen sich mit einem `#` (hash) erzeugen. Alles was in einer Zeile nach dem `#` erscheint, wird nicht als ausführbarer Programmcode interpretiert, sondern ignoriert - es sei denn, es ist teil einer Zeichenkette (string).\n"
   ]
  },
  {
   "cell_type": "code",
   "execution_count": null,
   "metadata": {},
   "outputs": [],
   "source": [
    "# dies ist ein Kommentar\n",
    "x = 1 #Kommentar: der Variable x wird der Wert 1 zugewiesen.\n",
    "s = \"#dies ist kein Kommentar, sondern eine Zeichenkette!\"\n",
    "print(s)"
   ]
  },
  {
   "cell_type": "markdown",
   "metadata": {},
   "source": [
    "### a. Elementare Datentypen\n",
    "\n",
    "Python kennt verschiedene Datentypen:\n",
    "* ganzzahlige Daten (int)\n",
    "* reelwertige Daten (float) - eigentlich sind dies häufig Fließkommazahlen\n",
    "* komplexe Daten (complex)\n",
    "\n",
    "Wir werden diese Datentypen gleich anhand verschiedener Beispiele kennenlernen:\n",
    "\n",
    "#### Int:"
   ]
  },
  {
   "cell_type": "code",
   "execution_count": null,
   "metadata": {},
   "outputs": [],
   "source": [
    "a = 3+5*7\n",
    "b = (60 - 5*6)/5 # Division erzeugt immer ein float\n",
    "a,b"
   ]
  },
  {
   "cell_type": "code",
   "execution_count": null,
   "metadata": {},
   "outputs": [],
   "source": [
    "17 / 3 # klassische Division erzeugt ein float"
   ]
  },
  {
   "cell_type": "code",
   "execution_count": null,
   "metadata": {},
   "outputs": [],
   "source": [
    "f= 17 // 3 # 'floor division' Erhält nur den ganzzahligen Teiler\n",
    "f"
   ]
  },
  {
   "cell_type": "code",
   "execution_count": null,
   "metadata": {},
   "outputs": [],
   "source": [
    "r = 17 % 3 # Der %-Operator berechnet den Rest-Term der Division\n",
    "r"
   ]
  },
  {
   "cell_type": "code",
   "execution_count": null,
   "metadata": {},
   "outputs": [],
   "source": [
    "d = 3\n",
    "e = f * d + r # ganzzahliger Teiler x Divisor + Rest = Ergebnis\n",
    "e"
   ]
  },
  {
   "cell_type": "code",
   "execution_count": null,
   "metadata": {},
   "outputs": [],
   "source": [
    "2 ** 5 # wir können auch exponenten rechnen mit '**'"
   ]
  },
  {
   "cell_type": "code",
   "execution_count": null,
   "metadata": {},
   "outputs": [],
   "source": [
    "breite = 15 # schon zuvor haben wir das '=' Zeichen verwendet, um Variablen Werte zuzuweisen\n",
    "länge = 50\n",
    "fläche = breite * höhe # wenn wir aber auf eine Variable zugreifen, die nicht zuvor definiert wurde,\n",
    "fläche                 # erhalten wir eine Fehlermeldung!"
   ]
  },
  {
   "cell_type": "markdown",
   "metadata": {},
   "source": [
    "#### Float:"
   ]
  },
  {
   "cell_type": "code",
   "execution_count": null,
   "metadata": {},
   "outputs": [],
   "source": [
    "5 * 4.2 - 1 # Rechnungen mit Fließkommazahlen gehen genauso wie mit int"
   ]
  },
  {
   "cell_type": "markdown",
   "metadata": {},
   "source": [
    "#### Complex:\n",
    "\n",
    "Einen guten Überblick über die numerischen Datentypen findet man im [Python tutorial](https://docs.python.org/3/library/stdtypes.html#typesnumeric). Um eine Zahl mit dem entsprechenden Datentyp zu erzeugen, können die funktionen `int()`, `float()` und `complex()` verwendet werden."
   ]
  },
  {
   "cell_type": "code",
   "execution_count": null,
   "metadata": {},
   "outputs": [],
   "source": [
    "z = complex(2,1) # hier definieren wir die komplexe Zahl z=2+i\n",
    "z"
   ]
  },
  {
   "cell_type": "code",
   "execution_count": null,
   "metadata": {},
   "outputs": [],
   "source": [
    "z.conjugate() # die Konjugierte von z"
   ]
  },
  {
   "cell_type": "code",
   "execution_count": null,
   "metadata": {},
   "outputs": [],
   "source": [
    "z**3 # natürlich können wir mit komplexen Zahlen auch rechnen..."
   ]
  },
  {
   "cell_type": "code",
   "execution_count": null,
   "metadata": {},
   "outputs": [],
   "source": [
    "3**z"
   ]
  },
  {
   "cell_type": "markdown",
   "metadata": {},
   "source": [
    "#### Logische Operationen:\n",
    "\n",
    "Die bisher genannten Datentypen können sortiert werden, daher sind logische Operationen wie\n",
    "$$\n",
    "< \\quad > \\quad \\leq \\quad \\geq \\quad \\neq \\quad =\n",
    "$$\n",
    "sinnvoll. Die entsprechenden Operationen sind\n",
    "``` <   >   <=   >=    !=   == ```"
   ]
  },
  {
   "cell_type": "code",
   "execution_count": null,
   "metadata": {},
   "outputs": [],
   "source": [
    "z2= complex(5)\n",
    "z.real > z2.real"
   ]
  },
  {
   "cell_type": "code",
   "execution_count": null,
   "metadata": {},
   "outputs": [],
   "source": [
    "a != b"
   ]
  },
  {
   "cell_type": "markdown",
   "metadata": {},
   "source": [
    "### b. Zeichenketten - Strings:\n",
    "\n",
    "Eine spezielle Klasse bilden die Strings (Datentyp `str`), also Zeichenketten. Eine Zeichenkette ist beispielsweise der Satz\n",
    "\n",
    " `Ein trauriger Tiger toastet Tomaten`\n",
    "\n",
    "Eine Zeichenkette kann auf verschiedene Weisen erzeugt werden:"
   ]
  },
  {
   "cell_type": "code",
   "execution_count": null,
   "metadata": {},
   "outputs": [],
   "source": [
    "s1 = 'Ein \"trauriger\" Tiger toastet Tomaten'\n",
    "s2 = \"Ein trauriger Tiger 'toastet' Tomaten\"\n",
    "s3 = '''Sehr Traurige Tiger toasten Tomaten schön'''\n",
    "s4 = 'und isst sie alle auf'\n",
    "v = 4 # benötigen wir gleich noch..."
   ]
  },
  {
   "cell_type": "markdown",
   "metadata": {},
   "source": [
    "Mit Zeichenketten kann man auf verschiedene Arten arbeiten. Wir fangen hier mit der einfachsten an: Zeichenketten kombinieren und ausgeben."
   ]
  },
  {
   "cell_type": "code",
   "execution_count": null,
   "metadata": {},
   "outputs": [],
   "source": [
    "s1 # gib die Zeichenkette s1 wieder."
   ]
  },
  {
   "cell_type": "code",
   "execution_count": null,
   "metadata": {},
   "outputs": [],
   "source": [
    "print(s2) # der print Befehl kann auch Zeichenketten ausgeben, dabei werden die Begrenzungszeichen vermieden."
   ]
  },
  {
   "cell_type": "code",
   "execution_count": null,
   "metadata": {},
   "outputs": [],
   "source": [
    "print(s3)"
   ]
  },
  {
   "cell_type": "markdown",
   "metadata": {},
   "source": [
    "Jetzt kombinieren wir zwei Zeichenketten und geben sie mittels `print` aus."
   ]
  },
  {
   "cell_type": "code",
   "execution_count": null,
   "metadata": {},
   "outputs": [],
   "source": [
    "print(s1 + ' ' + s4)"
   ]
  },
  {
   "cell_type": "markdown",
   "metadata": {},
   "source": [
    "Schließlich noch ein Beispiel, in dem wir einen Zahlenwert in eine Zeichenkette verwandeln und diese dann in einen Ausgabetext einbinden:"
   ]
  },
  {
   "cell_type": "code",
   "execution_count": null,
   "metadata": {},
   "outputs": [],
   "source": [
    "s5 = s1 + ' und tingelt mit ' + str(v) + ' Teilen zum tugendhaften Tanztee'\n",
    "print(s5)"
   ]
  },
  {
   "cell_type": "markdown",
   "metadata": {},
   "source": [
    "### c. Listen\n",
    "\n",
    "Es gibt in Python drei verschiedene Arten oder Objekttypen von Listen:\n",
    "\n",
    "* Listen: `list`\n",
    "* Tupel: `tuple`\n",
    "* Bereiche: `range`\n",
    "\n",
    "Wir werden hier zunächst nur Listen und Bereiche behandeln. Eine Liste ist eine Sammlung von Daten gleichen Typs. Beispielsweise ein Vektor reeller Zahlen, oder eine Sammlung von Namen (Strings). Üblicherweise kann man Listen sortieren und einzelne Einträge einer Liste bearbeiten/auslesen/löschen, etc. Bereiche werden üblicherweise für die Konstruktion von Schleifen eingesetzt. Aber dazu kommen wir später. "
   ]
  },
  {
   "cell_type": "code",
   "execution_count": null,
   "metadata": {},
   "outputs": [],
   "source": [
    "liste1 = [1, 2, 3]\n",
    "liste2 = ['hunde','katzen','igel'] # ein Spaltenvektor"
   ]
  },
  {
   "cell_type": "markdown",
   "metadata": {},
   "source": [
    "Wir testen jetzt verschiedene Operationen auf diesen Objekten."
   ]
  },
  {
   "cell_type": "code",
   "execution_count": null,
   "metadata": {},
   "outputs": [],
   "source": [
    "liste1 * 3 # der *-Operator multipliziert nicht etwa die Einträge einer Liste mit 3, sondern dupliziert die Liste 3-fach"
   ]
  },
  {
   "cell_type": "code",
   "execution_count": null,
   "metadata": {},
   "outputs": [],
   "source": [
    "liste1[2] * 3 # Indizierung in Listen startet bei 0"
   ]
  },
  {
   "cell_type": "code",
   "execution_count": null,
   "metadata": {},
   "outputs": [],
   "source": [
    "len(liste2) # die Länge der Liste ist 3, aber der höchste Index ist 2"
   ]
  },
  {
   "cell_type": "code",
   "execution_count": null,
   "metadata": {},
   "outputs": [],
   "source": [
    "'Käse'+liste2[2] # Operationen mit dem Inhalt hängen vom (automatischen) Typ der Listenelemente ab"
   ]
  },
  {
   "cell_type": "code",
   "execution_count": null,
   "metadata": {},
   "outputs": [],
   "source": [
    "liste2[0:3:2] # etwas irreführend ist, dass die Indizierung in der Colon-Notation immer bis zun n+1-ten Element läuft"
   ]
  },
  {
   "cell_type": "code",
   "execution_count": null,
   "metadata": {},
   "outputs": [],
   "source": [
    "liste2.index('katzen') # suche den Index, an dem 'katzen' in der Liste auftaucht"
   ]
  },
  {
   "cell_type": "markdown",
   "metadata": {},
   "source": [
    "Für die Mathematischen Objekte **Vektor** und **Matrix** eignen sich Listen aber nicht so gut. Hier kommt nun ein Modul-Paket ins Spiel, das wir später in diesem Kursus noch intensiver kennen lernen werden. Wir müssen nun also das Paket `NumPy` laden und mit der `array` Funktion die entsprechenden Objekte erzeugen.\n",
    "\n",
    "Anschließend werden wir Vektoren erzeugen und mit ihnen diverse einfache Operationen ausführen."
   ]
  },
  {
   "cell_type": "code",
   "execution_count": null,
   "metadata": {},
   "outputs": [],
   "source": [
    "import numpy as np\n",
    "zeil_vektor = np.array([[1,2,3]])\n",
    "spal_vektor = np.array([[3],[2],[1]])"
   ]
  },
  {
   "cell_type": "code",
   "execution_count": null,
   "metadata": {},
   "outputs": [],
   "source": [
    "zeil_vektor"
   ]
  },
  {
   "cell_type": "code",
   "execution_count": null,
   "metadata": {},
   "outputs": [],
   "source": [
    "spal_vektor"
   ]
  },
  {
   "cell_type": "markdown",
   "metadata": {},
   "source": [
    "In der Tat sind die meisten Linear-Algebra Operationen für Vektoren und Matrizen über Funktionen implementiert, so dass wir in der Regel gar nicht so genau darauf achten müssen, ob ein Vektor ein Zeilen- oder Spalten-Vektor ist. Aber hier sind ein paar, für die es wichtig sein kann. Die Vektor-Multiplikation ist nicht durch `*` sondern durch `@` implementiert. Alternativ kann auch die Funktion `dot` verwendet werden"
   ]
  },
  {
   "cell_type": "code",
   "execution_count": null,
   "metadata": {},
   "outputs": [],
   "source": [
    "zeil_vektor @ spal_vektor # Skalarprodukt"
   ]
  },
  {
   "cell_type": "code",
   "execution_count": null,
   "metadata": {},
   "outputs": [],
   "source": [
    "spal_vektor @ zeil_vektor # Rang-1-update"
   ]
  },
  {
   "cell_type": "code",
   "execution_count": null,
   "metadata": {},
   "outputs": [],
   "source": [
    "np.dot(spal_vektor,zeil_vektor) # Das Gleiche mittels der Funktion dot"
   ]
  },
  {
   "cell_type": "code",
   "execution_count": null,
   "metadata": {},
   "outputs": [],
   "source": [
    "M = np.dot(spal_vektor,zeil_vektor) # Matrix\n",
    "M @ spal_vektor # Matrix-Vektor Multiplikation"
   ]
  },
  {
   "cell_type": "code",
   "execution_count": null,
   "metadata": {},
   "outputs": [],
   "source": [
    "zeil_vektor @ M # Vektormultiplikation von links"
   ]
  },
  {
   "cell_type": "code",
   "execution_count": null,
   "metadata": {},
   "outputs": [],
   "source": [
    "np.size(M) # Bestimme Matrix-Größe, hier wird die Anzahl der Elemente zurück gegeben"
   ]
  },
  {
   "cell_type": "code",
   "execution_count": null,
   "metadata": {},
   "outputs": [],
   "source": [
    "d = np.ndim(M) # Bestimme die Anzahl der Dimensionen der Matrix M\n",
    "M.shape[0:d]   # Bestimme die Matrix-Größe in jeder Dimension"
   ]
  },
  {
   "cell_type": "code",
   "execution_count": null,
   "metadata": {},
   "outputs": [],
   "source": [
    "M.T # Transponiere M"
   ]
  },
  {
   "cell_type": "markdown",
   "metadata": {},
   "source": [
    "## 3. Aufgaben\n",
    "\n",
    "Jetzt sind Sie am Zug! Hier kommen ein paar Aufgaben, die Sie lösen können um im Umgang mit grundlegenden Datentypen in Python sicherer zu werden.\n",
    "\n",
    "1. Berechnen Sie das Volumen eines Zylinders mit dem Radius 5m und der Höhe 12m. Sie können dabei die Konstante `pi` aus `NumPy` verwenden. Runden Sie auf ganze Meter (verwenden Sie `round`).\n",
    "2. Wenn Sie wissen, dass der Erdumfang entlang des Äquators 40.075,017 km beträgt, wie groß ist dann der Durchmesser? Runden Sie wieder auf Meter.\n",
    "3. Schreiben Sie einen Haiku (Japanische Gedichtform, mit drei Zeilen, und jeweils festgelegten Silbenzahlen 5-7-5). Bilden sie für jede Zeile eine Zeichenkette. Drucken Sie die Zeichenketten nacheinander aus. Erweitern Sie jede der Zeichenketten am Anfang um die Zeilenzahl.\n",
    "4. Bilden Sie je eine Liste aus den Zeilennummern und den Zeilen Ihres Haikus und verknüpfen Sie die Listen, so dass jeweils Zeilennummer und Zeile zusammen gehören."
   ]
  },
  {
   "cell_type": "markdown",
   "metadata": {},
   "source": [
    "---\n",
    "1) <span id=\"fn1\">Copyright Notice:\n",
    "    \n",
    "    Python Syntax 1, Copyright (C) 2020  Jörn Behrens\n",
    "    \n",
    "        Prof. Dr. Jörn Behrens\n",
    "        Universität Hamburg, Dept. Mathematik\n",
    "        Bundesstrasse 55\n",
    "        20146 Hamburg, Germany\n",
    "        joern.behrens@uni-hamburg.de\n",
    "\n",
    "    This program is free software; you can redistribute it and/or modify\n",
    "    it under the terms of the GNU General Public License as published by\n",
    "    the Free Software Foundation; either version 2 of the License, or\n",
    "    (at your option) any later version.\n",
    "\n",
    "    This program is distributed in the hope that it will be useful,\n",
    "    but WITHOUT ANY WARRANTY; without even the implied warranty of\n",
    "    MERCHANTABILITY or FITNESS FOR A PARTICULAR PURPOSE.  See the\n",
    "    GNU General Public License for more details.\n",
    "\n",
    "    You should have received a copy of the GNU General Public License along\n",
    "    with this program; if not, write to the Free Software Foundation, Inc.,\n",
    "    51 Franklin Street, Fifth Floor, Boston, MA 02110-1301 USA.\n",
    "\n",
    "\n",
    "</span>"
   ]
  },
  {
   "cell_type": "code",
   "execution_count": null,
   "metadata": {},
   "outputs": [],
   "source": []
  }
 ],
 "metadata": {
  "kernelspec": {
   "display_name": "Python 3",
   "language": "python",
   "name": "python3"
  },
  "language_info": {
   "codemirror_mode": {
    "name": "ipython",
    "version": 3
   },
   "file_extension": ".py",
   "mimetype": "text/x-python",
   "name": "python",
   "nbconvert_exporter": "python",
   "pygments_lexer": "ipython3",
   "version": "3.7.7"
  }
 },
 "nbformat": 4,
 "nbformat_minor": 4
}
