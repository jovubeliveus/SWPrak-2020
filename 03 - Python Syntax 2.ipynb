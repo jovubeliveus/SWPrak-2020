{
 "cells": [
  {
   "cell_type": "markdown",
   "metadata": {},
   "source": [
    "_Softwarepraktikum Blockkurs März 2020 (WS2019/20)_"
   ]
  },
  {
   "cell_type": "markdown",
   "metadata": {},
   "source": [
    "# Python Syntax 2"
   ]
  },
  {
   "cell_type": "markdown",
   "metadata": {},
   "source": [
    "[Jörn Behrens](https://www.math.uni-hamburg.de/numgeo/) (joern.behrens@uni-hamburg.de)"
   ]
  },
  {
   "cell_type": "markdown",
   "metadata": {},
   "source": [
    "## 1. Einführung und Ziel\n",
    "\n",
    "Um zu programmieren bedarf es grundlegender Kontrollstrukturen, die wir in diesem Notebook kennenlernen und probieren wollen. \n",
    "\n",
    "### Voraussetzungen\n",
    "\n",
    "Wir kennen die grundlegenden Datentypen und haben uns jetzt mit den Jupyter Notebooks vertraut gemacht. Wir haben immer noch Pyton 3 mit den entsprechenden Paketen installiert."
   ]
  },
  {
   "cell_type": "markdown",
   "metadata": {},
   "source": [
    "## 2. Python Konstrukte\n",
    "\n",
    "Wir werden nun die folgenden drei wesentlichen Programmierkonstrukte an Beispielen kennen lernen:\n",
    "1. Fallunterscheidungen `if-statements`\n",
    "2. Schleifen `for-loops`\n",
    "3. Funktionen\n",
    "\n",
    "### 1. Fallunterscheidungen\n",
    "\n",
    "Starten wir also mit den Fallunterscheidungen. Dafür gibt es (anders als in anderen Programmiersprachen) eigentlich nur die `if`-Anweisung. Im folgenden ein paar Beispiele. Beachten Sie, dass sich die jeweilige Anweisung immer auf den jeweiligen `Code Block` bezieht. Code Blocks definieren sich durch ihre Einrückung."
   ]
  },
  {
   "cell_type": "code",
   "execution_count": null,
   "metadata": {},
   "outputs": [],
   "source": [
    "umbrella = True\n",
    "rain = True\n",
    "if (rain):\n",
    "    if (umbrella):\n",
    "        outstr = \"but you've got an Umbrella! Go outside!\"\n",
    "    else:\n",
    "        outstr = \"you should rather stay inside.\"\n",
    "    outstr = \"It does rain, \" + outstr\n",
    "else:\n",
    "    outstr = \"Look out the window, it is fine, go outside!\"\n",
    "print(outstr)"
   ]
  },
  {
   "cell_type": "markdown",
   "metadata": {},
   "source": [
    "### 2. Schleifen\n",
    "\n",
    "Es gibt zwei wesentliche Arten von Schleifen:\n",
    "\n",
    "* `for`-Scheifen und\n",
    "* `while`-Schleifen\n",
    "\n",
    "Während die erstere einfach für jeden Scheifenzähler eine Answeisung ausführt, prüft die letztere eine Bedingung und führt die Schleife solange aus, wie die Bedingung erfüllt ist.\n",
    "\n",
    "Wir hatten im letzten Notebook ein Haiku erstellt und es mühsam mit Zeilennummern versehen. Das geht in einer Schleife viel eleganter:"
   ]
  },
  {
   "cell_type": "code",
   "execution_count": null,
   "metadata": {},
   "outputs": [],
   "source": [
    "haiku1 = 'Python verstehen'              # erste Zeile 5 Silben\n",
    "haiku2 = 'ist schwierig aber auch schön' # zweite Zeile 7 Silben\n",
    "haiku3 = 'denn es hilft mir sehr'        # dritte Zeile 5 Silben\n",
    "hk=[haiku1, haiku2, haiku3]              # dies ist unsere liste, die den Haiku enthält\n",
    "for i in range(len(hk)):                 # die Schleife läuft über Indizes, entsprechend der Anzahl Zeilen in hk\n",
    "    print(i+1, hk[i])                    # wir starten mit Zeile 1"
   ]
  },
  {
   "cell_type": "markdown",
   "metadata": {},
   "source": [
    "### 3. Funktionen\n",
    "\n",
    "Wir wollen uns jetzt eine Funktion denfinieren, die eine zufällige Reihe von Zahlen sortiert. Dazu werden wir eine Liste erstellen mit Zahlen, die zufällig generiert sind. Zum Sortieren werden wir einen Algorithmus verwenden, der **Bubble Sort** genannt wird. Dabei geht man wie folgt vor:\n",
    "* Gegeben eine Liste von $N$ sortierbaren Objekten (es gilt also eine Relation $a<b$\n",
    "* Starte mit dem $N$-ten Element der Liste an und vergleiche es mit dem $N-1$-ten Element:\n",
    "    * Falls Element $N$ kleiner ist als Element $N-1$, vertausche beide\n",
    "* Fahre mit dem $n-1$-ten Element fort, bis Du beim ersten Element angekommen bist. Das erste Element ist jetzt das kleinste Element in der Liste.\n",
    "* Wiederhole dieses Verfahren, jetzt jedoch mit den Elementen $N$ bis $2$, und so fort.\n",
    "\n",
    "Dieser Algorithmus ist in der folgenden Funktion implementiert:"
   ]
  },
  {
   "cell_type": "code",
   "execution_count": null,
   "metadata": {},
   "outputs": [],
   "source": [
    "def bubble_sort(inlist):\n",
    "    ''' bubble_sort sorts an input list of \n",
    "    arbirtrary integer numbers into an \n",
    "    ordered list of numbers'''\n",
    "\n",
    "    n= len(inlist) # determine length of list\n",
    "\n",
    "    for i in range(n):\n",
    "        for j in range(n-1,i,-1): # take care for correct array bounds in python...\n",
    "            if inlist[j] < inlist[(j-1)]:\n",
    "                temp= inlist[j]\n",
    "                inlist[j]= inlist[j-1] # these 3 lines exchange outlist[j] with outlist[j-1]\n",
    "                inlist[j-1]= temp\n",
    "    return inlist"
   ]
  },
  {
   "cell_type": "markdown",
   "metadata": {},
   "source": [
    "Jetzt erzeugen wir uns eine mit Zufallszahlen gefüllte Liste, dazu importieren wir die Funktion `randint` zur Erzeugung von ganzzahligen Zufallszahlen. Beachten Sie, dass wir dafür ein besonderes Konstrukt verwenden, eine eingebettete Scheife!"
   ]
  },
  {
   "cell_type": "code",
   "execution_count": null,
   "metadata": {},
   "outputs": [],
   "source": [
    "from random import randint                     # importiere die Funktion randint\n",
    "\n",
    "NN = 10                                        # Dies ist die Länge unserer Liste (so oft würfeln wir)\n",
    "inlist= [randint(1,6) for p in range(0,NN-1)]  # Die Zufallszahlen liegen zwischen 1 und 6"
   ]
  },
  {
   "cell_type": "code",
   "execution_count": null,
   "metadata": {},
   "outputs": [],
   "source": [
    "print(inlist)\n",
    "print(bubble_sort(inlist))"
   ]
  },
  {
   "cell_type": "markdown",
   "metadata": {},
   "source": [
    "## 3. Aufgabe\n",
    "\n",
    "Hier erhalten Sie nur eine Aufgabe, die es jedoch ein wenig in sich hat, denn Sie werden jetzt alle bislang erlernten Konstrukte zur Programmierung verwenden müssen.\n",
    "\n",
    "Die Aufgabe lautet: Schreiben Sie eine Funktion, welche den goldenen Schnitt mit Hilfe der Reihe der Fibonacci Zahlen approximiert. Geben Sie dieses Verhältnis als Dezimalzahlenreihe mit mindestens 10 Elementen immer höherer Approximationsgüte aus.\n",
    "\n",
    "Zur Erinnerung:\n",
    "* Die Fibonacci-Zahlen berechnen sich als Reihe wie folgt: \n",
    "    * Start: $f_0=0$, $f_1=1$\n",
    "    * Iteration $k=2,3,4,\\ldots$: $f_k = f_{k-1} + f_{k-2}$\n",
    "* Der Goldene Schnitt berechnet sich als\n",
    "$$\n",
    "\\lim_{k\\rightarrow\\infty, k>0}\\frac{f_{k-1}}{f_k}.\n",
    "$$"
   ]
  },
  {
   "cell_type": "code",
   "execution_count": null,
   "metadata": {},
   "outputs": [],
   "source": []
  }
 ],
 "metadata": {
  "kernelspec": {
   "display_name": "Python 3",
   "language": "python",
   "name": "python3"
  },
  "language_info": {
   "codemirror_mode": {
    "name": "ipython",
    "version": 3
   },
   "file_extension": ".py",
   "mimetype": "text/x-python",
   "name": "python",
   "nbconvert_exporter": "python",
   "pygments_lexer": "ipython3",
   "version": "3.7.4"
  }
 },
 "nbformat": 4,
 "nbformat_minor": 4
}
