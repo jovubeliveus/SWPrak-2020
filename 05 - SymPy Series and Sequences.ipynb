{
 "cells": [
  {
   "cell_type": "markdown",
   "metadata": {},
   "source": [
    "_Softwarepraktikum Blockkurs März 2021 (WS2020/21)_"
   ]
  },
  {
   "cell_type": "markdown",
   "metadata": {},
   "source": [
    "# SymPy Folgen und Reihen[<sup>1</sup>](#fn1)"
   ]
  },
  {
   "cell_type": "markdown",
   "metadata": {},
   "source": [
    "[Jörn Behrens](https://www.math.uni-hamburg.de/numgeo/) (joern.behrens@uni-hamburg.de)"
   ]
  },
  {
   "cell_type": "markdown",
   "metadata": {},
   "source": [
    "## 1. Einführung und Ziel\n",
    "\n",
    "Mit diesem Arbeitsblatt sollen die SymPy Module für Folgen und Reihen eingeführt werden.\n",
    "\n",
    "### Voraussetzungen\n",
    "\n",
    "Einfache Beispiele mit SymPy sind inzwischen verstanden. Wir haben auch gesehen, dass in SymPy Symbole zum Rechnen verwendet werden."
   ]
  },
  {
   "cell_type": "markdown",
   "metadata": {},
   "source": [
    "## 2. Folgen und Grenzwerte\n",
    "\n",
    "Zwar haben wir im vorigen Arbeitsblatt schon ein paar Grenzwerte kennen gelernt, jetzt wollen wir aber etwas tiefer in die Materie einsteigen. Zunächst wollen wir den Unterschied zwischen den SymPy Befehlen\n",
    "\n",
    "1. `limit` und\n",
    "2. `Limit`\n",
    "\n",
    "kennen lernen. \n",
    "\n",
    "`Limit` erlaubt es uns einen Ausdruck $\\lim_{x\\rightarrow a} f(x)$ zu Deklarieren, ohne ihn zu berechnen. Um dann den Wert dieses Grenzwertes zu erhalten, benötigt es die Methode `.doit`.\n",
    "\n",
    "`limit` wertet eine durch eine Funktionanweisung $f(x)$ und eine Grenzfolge $x\\rightarrow a$ definierte Folge direkt aus."
   ]
  },
  {
   "cell_type": "code",
   "execution_count": null,
   "metadata": {},
   "outputs": [],
   "source": [
    "from sympy import Symbol, Limit, limit, oo, cos, sin, pi, init_printing\n",
    "\n",
    "x = Symbol('x')\n",
    "lim = Limit(cos(x)/x,x,0)\n",
    "lim"
   ]
  },
  {
   "cell_type": "code",
   "execution_count": null,
   "metadata": {},
   "outputs": [],
   "source": [
    "lim.doit()"
   ]
  },
  {
   "cell_type": "markdown",
   "metadata": {},
   "source": [
    "Wir hätten auch direkt schreiben können:"
   ]
  },
  {
   "cell_type": "code",
   "execution_count": null,
   "metadata": {},
   "outputs": [],
   "source": [
    "limit(cos(x)/x,x,0)"
   ]
  },
  {
   "cell_type": "markdown",
   "metadata": {},
   "source": [
    "Mit dem obigen Ausdruck `lim` können wir allerdings noch weiter operieren.\n",
    "\n",
    "Sie haben in der Ausgabe nach dem `Limit` Befehl gesehen, dass die Laufvariable $x\\rightarrow 0^+$ von oben gegen die Null läuft. Das ist der Standard. Wir können aber auch die Richtung umkehren, dazu verwenden wir das optionale Argument `dir`."
   ]
  },
  {
   "cell_type": "code",
   "execution_count": null,
   "metadata": {},
   "outputs": [],
   "source": [
    "lim_minus=Limit(cos(x)/x,x,0,dir=\"-\")\n",
    "lim_minus"
   ]
  },
  {
   "cell_type": "code",
   "execution_count": null,
   "metadata": {},
   "outputs": [],
   "source": [
    "lim_minus.doit()"
   ]
  },
  {
   "cell_type": "markdown",
   "metadata": {},
   "source": [
    "Interessant wird es, wenn wir nun die Richtungen alternieren lassen:"
   ]
  },
  {
   "cell_type": "code",
   "execution_count": null,
   "metadata": {},
   "outputs": [],
   "source": [
    "lim_pm = Limit(cos(x)/x,x,0,dir=\"+-\")\n",
    "lim_pm"
   ]
  },
  {
   "cell_type": "code",
   "execution_count": null,
   "metadata": {},
   "outputs": [],
   "source": [
    "lim_pm.doit()"
   ]
  },
  {
   "cell_type": "markdown",
   "metadata": {},
   "source": [
    "Hier noch ein paar weitere Beispiel-Folgen:"
   ]
  },
  {
   "cell_type": "code",
   "execution_count": null,
   "metadata": {},
   "outputs": [],
   "source": [
    "from sympy import factorial, exp\n",
    "k = Symbol('k', integer=True)\n",
    "lim_ex = Limit((factorial(k)*exp(k))/(k**k * k**(1/2)),k,oo)\n",
    "lim_ex"
   ]
  },
  {
   "cell_type": "code",
   "execution_count": null,
   "metadata": {},
   "outputs": [],
   "source": [
    "lim_ex.doit()"
   ]
  },
  {
   "cell_type": "code",
   "execution_count": null,
   "metadata": {},
   "outputs": [],
   "source": [
    "lim_pow = Limit(5**k/k**5,k,oo)\n",
    "lim_pow"
   ]
  },
  {
   "cell_type": "code",
   "execution_count": null,
   "metadata": {},
   "outputs": [],
   "source": [
    "lim_pow.doit()"
   ]
  },
  {
   "cell_type": "markdown",
   "metadata": {},
   "source": [
    "## 3. Reihenentwicklung\n",
    "\n",
    "SymPy erlaubt es uns auch, aus bekannten Funktionen Reihen zu entwickeln. Sie erinnern sich sicher, dass der Sinus sich als unendliche (Taylor) Reihe darstellen lässt:\n",
    "$$\n",
    "\\sin(x) = \\sum_{n=0}^{\\infty} (-1)^n \\frac{x^{2n+1}}{(2n+1)!} = \\frac{x}{1!} - \\frac{x^3}{3!} + \\frac{x^5}{5!} \\mp\\cdots\n",
    "$$\n",
    "Probieren wir einmal aus, was der Befehl `series` uns dazu ausgibt:"
   ]
  },
  {
   "cell_type": "code",
   "execution_count": null,
   "metadata": {},
   "outputs": [],
   "source": [
    "from sympy import series\n",
    "series(sin(x),x)"
   ]
  },
  {
   "cell_type": "code",
   "execution_count": null,
   "metadata": {},
   "outputs": [],
   "source": [
    "series(cos(x),x)"
   ]
  },
  {
   "cell_type": "markdown",
   "metadata": {},
   "source": [
    "Wir können die Reihenentwicklung auch um einen festgelegten Punkt herum ausführen lassen. Wollen wir beispielsweise die Sinusreihe um $\\pi$ herum entwickeln, dann verwenden wir ein optionales Argument:"
   ]
  },
  {
   "cell_type": "code",
   "execution_count": null,
   "metadata": {},
   "outputs": [],
   "source": [
    "series(sin(x),x,x0=pi)"
   ]
  },
  {
   "cell_type": "markdown",
   "metadata": {},
   "source": [
    "## 4. Ordnungsterm\n",
    "\n",
    "Haben Sie bemerkt, dass in den Reihenentwicklunger jeweils nur ein paar Terme erscheinen und dann der Term $O(x^6)$ oder ähnlich auftaucht? Das sind dann also alles Terme der _Größenordnung_ $c\\cdot x^6$ ($c$ konstant). Mit diesem Term kann man in SymPy rechnen! Hier ein paar Beispiele:"
   ]
  },
  {
   "cell_type": "code",
   "execution_count": null,
   "metadata": {},
   "outputs": [],
   "source": [
    "from sympy import Order\n",
    "Order(x)"
   ]
  },
  {
   "cell_type": "code",
   "execution_count": null,
   "metadata": {},
   "outputs": [],
   "source": [
    "Order(x)+1/x"
   ]
  },
  {
   "cell_type": "code",
   "execution_count": null,
   "metadata": {},
   "outputs": [],
   "source": [
    "Order(x)+x**2"
   ]
  },
  {
   "cell_type": "markdown",
   "metadata": {},
   "source": [
    "Aha, merken Sie etwas? Der Term der Ordnung $O(x^2)$ spielt keine Rolle, aber warum nicht? Wenn $x\\rightarrow \\infty$, dann sollte doch der quadratische Term dominieren? Wir schreiben also $x\\rightarrow \\infty$ vor:"
   ]
  },
  {
   "cell_type": "code",
   "execution_count": null,
   "metadata": {},
   "outputs": [],
   "source": [
    "Order(x+x**2,(x,oo))"
   ]
  },
  {
   "cell_type": "markdown",
   "metadata": {},
   "source": [
    "Nur wenn $x\\rightarrow 0$ ist der Term erster Ordnung dominant."
   ]
  },
  {
   "cell_type": "code",
   "execution_count": null,
   "metadata": {},
   "outputs": [],
   "source": [
    "Order(x+x**2,(x,0))"
   ]
  },
  {
   "cell_type": "code",
   "execution_count": null,
   "metadata": {},
   "outputs": [],
   "source": [
    "y = Symbol('y')\n",
    "Order(1 + x*y)"
   ]
  },
  {
   "cell_type": "code",
   "execution_count": null,
   "metadata": {},
   "outputs": [],
   "source": [
    "Order(1 + x*y, (x,oo), (y,oo))"
   ]
  },
  {
   "cell_type": "markdown",
   "metadata": {},
   "source": [
    "## 5. Reihen\n",
    "\n",
    "Jetzt wenden wir uns weiteren Reihen zu, die wir aber nun selbst konstruieren wollen. Die grundlegende Funktion dafür ist `Sum`. Zunächst also eine endliche Summe (Reihe)."
   ]
  },
  {
   "cell_type": "code",
   "execution_count": null,
   "metadata": {},
   "outputs": [],
   "source": [
    "from sympy import Sum\n",
    "n = Symbol('n', integer=True)\n",
    "S = Sum(n,(n,0,100))\n",
    "S"
   ]
  },
  {
   "cell_type": "code",
   "execution_count": null,
   "metadata": {},
   "outputs": [],
   "source": [
    "S.doit()"
   ]
  },
  {
   "cell_type": "markdown",
   "metadata": {},
   "source": [
    "Als nächstes Schauen wir uns eine unendliche Reihe an:\n",
    "$$\n",
    "S_n = \\sum_{n=0}^{\\infty} \\frac{1}{e^n}.\n",
    "$$"
   ]
  },
  {
   "cell_type": "code",
   "execution_count": null,
   "metadata": {},
   "outputs": [],
   "source": [
    "from sympy import Sum\n",
    "S_inf = Sum(1/(exp(n)),(n,0,oo))\n",
    "S_inf"
   ]
  },
  {
   "cell_type": "markdown",
   "metadata": {},
   "source": [
    "Zunächst können wir überprüfen, ob diese Reihe konvergiert, dazu verwenden wir die Methode `.is_convergent()`"
   ]
  },
  {
   "cell_type": "code",
   "execution_count": null,
   "metadata": {},
   "outputs": [],
   "source": [
    "S_inf.is_convergent()"
   ]
  },
  {
   "cell_type": "markdown",
   "metadata": {},
   "source": [
    "Hurra, sie konvergiert. Dann können wir ja mal sehen, wohin. Wir hatten ja schon definiert, dass $n\\rightarrow\\infty$, brauchen also nur noch die Methode `.doit()` anzuwenden:"
   ]
  },
  {
   "cell_type": "code",
   "execution_count": null,
   "metadata": {},
   "outputs": [],
   "source": [
    "S_inf.doit()"
   ]
  },
  {
   "cell_type": "markdown",
   "metadata": {},
   "source": [
    "Wollen wir wissen, wie groß der Zahlenwert dieses Grenzwertes in etwa ist (in Fließkommazahlen), dann können wir die Methode `.evalf()` verwenden:"
   ]
  },
  {
   "cell_type": "code",
   "execution_count": null,
   "metadata": {},
   "outputs": [],
   "source": [
    "S_inf.evalf()"
   ]
  },
  {
   "cell_type": "markdown",
   "metadata": {},
   "source": [
    "## 6. Aufgaben\n",
    "\n",
    "Hier sind wieder ein paar Aufgaben, die Sie durchführen können.\n",
    "\n",
    "1. Stellen Sie die Folge der Fibonaccizahlen auf. Dazu verwenden Sie in diesem Fall nicht das zuvor geschriebene Programm, sondern die Funktion `fibonacci`. Berechnen Sie einen Grenzwert für $n\\rightarrow\\infty$.\n",
    "2. Berechnen Sie die Grenzwerte folgender Folgen, wobei jeweils $k\\rightarrow\\infty$:\n",
    "    * $\\frac{k^2}{2k}$\n",
    "    * $\\sin(k\\pi)$\n",
    "3. Berechnen Sie die Reihenentwicklung der Exponentialfunktion sowie des Tangens. Dabei soll die Reihenentwicklung des Tangens um den Punkt $\\pi$ erfolgen und Terme bis zur Ordnung 15 zeigen. Dafür verwenden Sie die optionalen Argumente `x0=` und `n=`."
   ]
  },
  {
   "cell_type": "markdown",
   "metadata": {},
   "source": [
    "---\n",
    "1) <span id=\"fn1\">Copyright Notice:\n",
    "    \n",
    "    SymPy Series and Sequences, Copyright (C) 2020  Jörn Behrens\n",
    "    \n",
    "        Prof. Dr. Jörn Behrens\n",
    "        Universität Hamburg, Dept. Mathematik\n",
    "        Bundesstrasse 55\n",
    "        20146 Hamburg, Germany\n",
    "        joern.behrens@uni-hamburg.de\n",
    "\n",
    "    This program is free software; you can redistribute it and/or modify\n",
    "    it under the terms of the GNU General Public License as published by\n",
    "    the Free Software Foundation; either version 2 of the License, or\n",
    "    (at your option) any later version.\n",
    "\n",
    "    This program is distributed in the hope that it will be useful,\n",
    "    but WITHOUT ANY WARRANTY; without even the implied warranty of\n",
    "    MERCHANTABILITY or FITNESS FOR A PARTICULAR PURPOSE.  See the\n",
    "    GNU General Public License for more details.\n",
    "\n",
    "    You should have received a copy of the GNU General Public License along\n",
    "    with this program; if not, write to the Free Software Foundation, Inc.,\n",
    "    51 Franklin Street, Fifth Floor, Boston, MA 02110-1301 USA.\n",
    "\n",
    "\n",
    "</span>"
   ]
  },
  {
   "cell_type": "code",
   "execution_count": null,
   "metadata": {},
   "outputs": [],
   "source": []
  }
 ],
 "metadata": {
  "kernelspec": {
   "display_name": "Python 3",
   "language": "python",
   "name": "python3"
  },
  "language_info": {
   "codemirror_mode": {
    "name": "ipython",
    "version": 3
   },
   "file_extension": ".py",
   "mimetype": "text/x-python",
   "name": "python",
   "nbconvert_exporter": "python",
   "pygments_lexer": "ipython3",
   "version": "3.7.7"
  }
 },
 "nbformat": 4,
 "nbformat_minor": 4
}
