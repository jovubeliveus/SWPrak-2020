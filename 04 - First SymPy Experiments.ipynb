{
 "cells": [
  {
   "cell_type": "markdown",
   "metadata": {},
   "source": [
    "_Softwarepraktikum Blockkurs März 2020 (WS2019/20)_"
   ]
  },
  {
   "cell_type": "markdown",
   "metadata": {},
   "source": [
    "# Erste SymPy Experimente"
   ]
  },
  {
   "cell_type": "markdown",
   "metadata": {},
   "source": [
    "[Jörn Behrens](https://www.math.uni-hamburg.de/numgeo/) (joern.behrens@uni-hamburg.de)"
   ]
  },
  {
   "cell_type": "markdown",
   "metadata": {},
   "source": [
    "## 1. Einführung und Ziel\n",
    "\n",
    "Mit diesem ersten Notebook wollen wir einen ersten Eindruck von der Arbeit mit SymPy bekommen. SymPy ist die Umgebung in Python, die symbolische Programmierung erlaubt.\n",
    "\n",
    "### Voraussetzungen\n",
    "\n",
    "Das Paket SymPy muss vorhanden sein. Falls Anaconda installiert ist, kann man davon ausgehen, dass SymPy vorhanden ist. Um sicher zu gehen, prüfen wir das mit dem Befehl `conda list sympy`:"
   ]
  },
  {
   "cell_type": "code",
   "execution_count": null,
   "metadata": {},
   "outputs": [],
   "source": [
    "conda list sympy"
   ]
  },
  {
   "cell_type": "markdown",
   "metadata": {},
   "source": [
    "Sollte nicht die Anaconda Distribution verwendet worden sein, dann kann man die Existenz von SymPy auch mit dem Befehl `pip show sympy` überprüfen:"
   ]
  },
  {
   "cell_type": "code",
   "execution_count": null,
   "metadata": {},
   "outputs": [],
   "source": [
    "pip show sympy"
   ]
  },
  {
   "cell_type": "markdown",
   "metadata": {},
   "source": [
    "## 2. Ein erstes Integral\n",
    "\n",
    "Nun wollen wir ausprobieren, wie symbolische Programmierung funktioniert. Zunächst müssen wir ein Symbol definieren, also eine Variable, die als ein symbolisches Objekt behandelt werden kann.\n",
    "\n",
    "```\n",
    "x = Symbol('x')\n",
    "```\n",
    "\n",
    "Anschließend wollen wir das (unbestimmte) Integral\n",
    "$$\n",
    "\\int e^x\\ cos(x)\\ dx\n",
    "$$\n",
    "lösen. Dazu benötigen wir die Befehle `Integral` und die Methode `.doit()`.\n",
    "\n",
    "Als allererstes jedoch müssen wir die Befehle in der Umgebung sympy importieren:"
   ]
  },
  {
   "cell_type": "code",
   "execution_count": 2,
   "metadata": {},
   "outputs": [
    {
     "data": {
      "image/png": "[encoded data removed]",
      "text/latex": [
       "$\\displaystyle \\int e^{x} \\cos{\\left(x \\right)}\\, dx = \\frac{e^{x} \\sin{\\left(x \\right)}}{2} + \\frac{e^{x} \\cos{\\left(x \\right)}}{2}$"
      ],
      "text/plain": [
       "⌠                 x           x       \n",
       "⎮  x             ℯ ⋅sin(x)   ℯ ⋅cos(x)\n",
       "⎮ ℯ ⋅cos(x) dx = ───────── + ─────────\n",
       "⌡                    2           2    "
      ]
     },
     "execution_count": 2,
     "metadata": {},
     "output_type": "execute_result"
    }
   ],
   "source": [
    "from sympy import *\n",
    "init_printing(use_unicode=True)\n",
    "\n",
    "x = Symbol('x')\n",
    "a = Integral(cos(x)*exp(x),x)\n",
    "Eq(a,a.doit())"
   ]
  },
  {
   "cell_type": "markdown",
   "metadata": {},
   "source": [
    "## 3. Weitere interessante Beispiele\n",
    "\n",
    "Es folgen nun weitere Interessante Beispiele symbolischer Berechnungen:\n",
    "\n",
    "### a. Differentiation\n",
    "\n",
    "Wir wollen die Funktion \n",
    "$$\n",
    "f(x) = \\sin(x) e^x\n",
    "$$\n",
    "differenzieren:"
   ]
  },
  {
   "cell_type": "code",
   "execution_count": 3,
   "metadata": {},
   "outputs": [
    {
     "data": {
      "image/png": "[encoded data removed]",
      "text/latex": [
       "$\\displaystyle e^{x} \\sin{\\left(x \\right)} + e^{x} \\cos{\\left(x \\right)}$"
      ],
      "text/plain": [
       " x           x       \n",
       "ℯ ⋅sin(x) + ℯ ⋅cos(x)"
      ]
     },
     "execution_count": 3,
     "metadata": {},
     "output_type": "execute_result"
    }
   ],
   "source": [
    "f = sin(x)*exp(x)\n",
    "diff(f,x)"
   ]
  },
  {
   "cell_type": "markdown",
   "metadata": {},
   "source": [
    "### b. Ein Integral mit unendlichem Intervall\n",
    "\n",
    "Ein symbolisches Rechensystem kann diesen Ausdruck lösen:\n",
    "$$\n",
    "\\int_{-\\infty}^{\\infty} \\sin(x^2)\\ dx.\n",
    "$$"
   ]
  },
  {
   "cell_type": "code",
   "execution_count": 4,
   "metadata": {},
   "outputs": [
    {
     "data": {
      "image/png": "[encoded data removed]",
      "text/latex": [
       "$\\displaystyle \\frac{\\sqrt{2} \\sqrt{\\pi}}{2}$"
      ],
      "text/plain": [
       "√2⋅√π\n",
       "─────\n",
       "  2  "
      ]
     },
     "execution_count": 4,
     "metadata": {},
     "output_type": "execute_result"
    }
   ],
   "source": [
    "f2 = sin(x**2)\n",
    "integrate(f2,(x,-oo,oo))"
   ]
  },
  {
   "cell_type": "markdown",
   "metadata": {},
   "source": [
    "### c. Grenzwerte\n",
    "\n",
    "Auch ein Limes kann einfach symbolisch berechnet werden. So kann der Wert des folgenden Ausdrucks bestimmt werden:\n",
    "$$\n",
    "\\lim_{x\\rightarrow 0}\\frac{\\sin(x)}{x}.\n",
    "$$"
   ]
  },
  {
   "cell_type": "code",
   "execution_count": 5,
   "metadata": {},
   "outputs": [
    {
     "data": {
      "image/png": "[encoded data removed]",
      "text/latex": [
       "$\\displaystyle 1$"
      ],
      "text/plain": [
       "1"
      ]
     },
     "execution_count": 5,
     "metadata": {},
     "output_type": "execute_result"
    }
   ],
   "source": [
    "limit(sin(x)/x,x,0)"
   ]
  },
  {
   "cell_type": "markdown",
   "metadata": {},
   "source": [
    "### d. Differentialgleichungen\n",
    "\n",
    "Wir können auch Differentialgleichungen lösen. Gegeben sei das Problem\n",
    "$$\n",
    "y'' - y = e^x.\n",
    "$$\n",
    "Zunächst müssen wir eine Funktion deklarieren, und diese anschließend in eine Gleichung schreiben. Schließlich müssen wir die Differentialgleichung mit dem Befehl `dsolve` lösen."
   ]
  },
  {
   "cell_type": "code",
   "execution_count": 6,
   "metadata": {},
   "outputs": [
    {
     "data": {
      "image/png": "[encoded data removed]",
      "text/latex": [
       "$\\displaystyle y{\\left(x \\right)} = C_{2} e^{- x} + \\left(C_{1} + \\frac{x}{2}\\right) e^{x}$"
      ],
      "text/plain": [
       "           -x   ⎛     x⎞  x\n",
       "y(x) = C₂⋅ℯ   + ⎜C₁ + ─⎟⋅ℯ \n",
       "                ⎝     2⎠   "
      ]
     },
     "execution_count": 6,
     "metadata": {},
     "output_type": "execute_result"
    }
   ],
   "source": [
    "y = Function('y')\n",
    "gl = Eq(y(x).diff(x,x)-y(x),exp(x))\n",
    "dsolve(gl,y(x))"
   ]
  },
  {
   "cell_type": "markdown",
   "metadata": {},
   "source": [
    "### e. Eigenwerte\n",
    "\n",
    "Wie wäre es, die Eigenwerte der Matrix\n",
    "$$\n",
    "\\left[\\begin{array}{cc} 1 & 2 \\\\ 2 & 3\n",
    "\\end{array}\\right]\n",
    "$$\n",
    "zu bestimmen?"
   ]
  },
  {
   "cell_type": "code",
   "execution_count": 7,
   "metadata": {},
   "outputs": [
    {
     "data": {
      "image/png": "[encoded data removed]",
      "text/latex": [
       "$\\displaystyle \\left\\{ 2 - \\sqrt{5} : 1, \\  2 + \\sqrt{5} : 1\\right\\}$"
      ],
      "text/plain": [
       "{2 - √5: 1, 2 + √5: 1}"
      ]
     },
     "execution_count": 7,
     "metadata": {},
     "output_type": "execute_result"
    }
   ],
   "source": [
    "M = Matrix([[1,2],[2,3]])\n",
    "M.eigenvals()"
   ]
  },
  {
   "cell_type": "markdown",
   "metadata": {},
   "source": [
    "## 4. Aufgaben\n",
    "\n",
    "Im folgenden sollen Sie nun selber einige Aufgaben mit Hilfe Symbolischer Berechnung lösen.\n",
    "\n",
    "1. Berechnen Sie sowohl das unbestimmte Integral, als auch die Ableitung des folgenden Polynoms:\n",
    "$$\n",
    "p(x)= \\sum_{i=0}^4 a_i x^i,\\quad\\mathsf{mit}\\ a=(a_i)_{i=0,\\ldots,4} =(3,1,0,5,1).\n",
    "$$\n",
    "2. Lösen Sie die folgenden allgemeinen Differentialgleichungen (sei $y=y(x)$ eine von $x$ abhängige Funktion):\n",
    "    1. $y'=\\sin(x)\\cos(y),$\n",
    "    2. $y'=\\frac{xy}{x^2-y^2}.$\n",
    "3. Bestimmen Sie den Grenzwert für $x\\rightarrow \\{0,\\infty,-\\infty,\\pi\\}$:\n",
    "$$\n",
    "\\lim_{x\\rightarrow \\{0,\\infty,-\\infty,\\pi\\}}\\cos(x)e^{-2x}\n",
    "$$"
   ]
  },
  {
   "cell_type": "code",
   "execution_count": null,
   "metadata": {},
   "outputs": [],
   "source": []
  }
 ],
 "metadata": {
  "kernelspec": {
   "display_name": "Python 3",
   "language": "python",
   "name": "python3"
  },
  "language_info": {
   "codemirror_mode": {
    "name": "ipython",
    "version": 3
   },
   "file_extension": ".py",
   "mimetype": "text/x-python",
   "name": "python",
   "nbconvert_exporter": "python",
   "pygments_lexer": "ipython3",
   "version": "3.7.4"
  }
 },
 "nbformat": 4,
 "nbformat_minor": 4
}
