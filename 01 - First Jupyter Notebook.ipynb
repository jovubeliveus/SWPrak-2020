{
 "cells": [
  {
   "cell_type": "markdown",
   "metadata": {},
   "source": [
    "_Softwarepraktikum Blockkurs März 2021 (WS2020/21)_ "
   ]
  },
  {
   "cell_type": "markdown",
   "metadata": {},
   "source": [
    "# Erstes Jupyter Notebook[<sup>1</sup>](#fn1)"
   ]
  },
  {
   "cell_type": "markdown",
   "metadata": {},
   "source": [
    "[Jörn Behrens](https://www.math.uni-hamburg.de/numgeo/) (joern.behrens@uni-hamburg.de)"
   ]
  },
  {
   "cell_type": "markdown",
   "metadata": {},
   "source": [
    "## 1. Einführung und Ziel\n",
    "\n",
    "Mit diesem ersten Notebook wollen wir lernen, wie man ein Notebook anlegt um dann ein paar erste einfache Anweisungen in Python durchzuführen. \n",
    "\n",
    "### Voraussetzungen\n",
    "\n",
    "Wir benötigen eine Python-Installation auf dem Rechner. Wir werden im folgenden immer davon ausgehen, dass diese Installation mit Python 3 kompatibel ist. Der Einfachheit halber sollte die Installation mit dem Installationspaket [Anaconda](https://www.anaconda.com/distribution/) durchgeführt werden, das für die gängigen Betriebssysteme verfügbar ist."
   ]
  },
  {
   "cell_type": "markdown",
   "metadata": {},
   "source": [
    "## 2. Erste Schritte\n",
    "\n",
    "Um ein Jupyter Notebook anzulegen, gehen wir wie folgt vor:\n",
    "1. Starte Jupyter Notebooks durch den Befehl `$ jupyter notebook &` auf einer Kommandozeile.\n",
    "2. Im dort erscheinenden Browserfenster klicke den Befehl `new...` und dann auf `Python 3`.\n",
    "\n",
    "Es wird nun eine WWW-Seite (eigentlich eine Datei mit der Endung `.ipynb`) angelegt, die eine Titelzeile enthält, eine Menüleiste, eine Reihe von Icons (shortcuts zu gängigen Befehlen) und einen Inhaltsbereich. Das ganze sieht dann in etwa so aus:\n",
    "![New Jupyter Notebook](figs/JupyterStart.png \"Jupyter Notebook\")"
   ]
  },
  {
   "cell_type": "markdown",
   "metadata": {},
   "source": [
    "Diese Zeile stellt eine Zelle dar, die standardmäßig vom Typ `Code` ist. Innerhalb einer Code Zelle kann Python code ausgeführt werden. Wir können beispielsweise Die Summe aus 3 und 5 bilden:"
   ]
  },
  {
   "cell_type": "code",
   "execution_count": null,
   "metadata": {},
   "outputs": [],
   "source": [
    "3+5*7"
   ]
  },
  {
   "cell_type": "markdown",
   "metadata": {},
   "source": [
    "Wir können den Typ der Zelle aber auch ändern, um Text oder Dokumentation zu schreiben. Dazu klicken wir -- sobald der Cursor in der gewünschten Zelle plaziert wurde -- auf die Menüleiste und dort auf `Cell` und dann auf `Cell Type -> Markdown`. Im Unterschied zur Code Zelle hat eine Markdown Zelle keine Markierung \"In [ ]:\" vorangestellt."
   ]
  },
  {
   "cell_type": "markdown",
   "metadata": {},
   "source": [
    "## 3. Aufgaben\n",
    "\n",
    "1. Starten Sie Jupyter notebooks und legen Sie ein neues Notebook an. Geben Sie diesem Notebook einen sinnvollen Namen.\n",
    "2. Legen Sie eine Markdown Zelle an. Lesen Sie die Anleitung zu Markdown im `Help` Menü. Schreiben Sie eine Kurze Dokumentation zu dem Skript, das Sie in der dritten Aufgabe anlegen.\n",
    "3. Erstellen Sie eine Reihe von Berechnungen. Testen Sie elementare Rechenaufgaben, Summation, Multiplikation, Division und vielleicht einen Dreisatz."
   ]
  },
  {
   "cell_type": "markdown",
   "metadata": {},
   "source": [
    "---\n",
    "1) <span id=\"fn1\">Copyright Notice:\n",
    "    \n",
    "    Erstes Jupyter Notebook, Copyright (C) 2020  Jörn Behrens\n",
    "    \n",
    "        Prof. Dr. Jörn Behrens\n",
    "        Universität Hamburg, Dept. Mathematik\n",
    "        Bundesstrasse 55\n",
    "        20146 Hamburg, Germany\n",
    "        joern.behrens@uni-hamburg.de\n",
    "\n",
    "    This program is free software; you can redistribute it and/or modify\n",
    "    it under the terms of the GNU General Public License as published by\n",
    "    the Free Software Foundation; either version 2 of the License, or\n",
    "    (at your option) any later version.\n",
    "\n",
    "    This program is distributed in the hope that it will be useful,\n",
    "    but WITHOUT ANY WARRANTY; without even the implied warranty of\n",
    "    MERCHANTABILITY or FITNESS FOR A PARTICULAR PURPOSE.  See the\n",
    "    GNU General Public License for more details.\n",
    "\n",
    "    You should have received a copy of the GNU General Public License along\n",
    "    with this program; if not, write to the Free Software Foundation, Inc.,\n",
    "    51 Franklin Street, Fifth Floor, Boston, MA 02110-1301 USA.\n",
    "\n",
    "\n",
    "</span>"
   ]
  },
  {
   "cell_type": "code",
   "execution_count": null,
   "metadata": {},
   "outputs": [],
   "source": []
  }
 ],
 "metadata": {
  "kernelspec": {
   "display_name": "Python 3",
   "language": "python",
   "name": "python3"
  },
  "language_info": {
   "codemirror_mode": {
    "name": "ipython",
    "version": 3
   },
   "file_extension": ".py",
   "mimetype": "text/x-python",
   "name": "python",
   "nbconvert_exporter": "python",
   "pygments_lexer": "ipython3",
   "version": "3.7.7"
  }
 },
 "nbformat": 4,
 "nbformat_minor": 4
}
