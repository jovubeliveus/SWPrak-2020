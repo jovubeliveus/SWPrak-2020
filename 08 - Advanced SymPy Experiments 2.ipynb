{
 "cells": [
  {
   "cell_type": "markdown",
   "metadata": {},
   "source": [
    "_Softwarepraktikum Blockkurs März 2020 (WS2019/20)_ "
   ]
  },
  {
   "cell_type": "markdown",
   "metadata": {},
   "source": [
    "# Fortgeschrittene Symbolische Programmierung II[<sup>1</sup>](#fn1)"
   ]
  },
  {
   "cell_type": "markdown",
   "metadata": {},
   "source": [
    "[Jörn Behrens](https://www.math.uni-hamburg.de/numgeo/) (joern.behrens@uni-hamburg.de)"
   ]
  },
  {
   "cell_type": "markdown",
   "metadata": {},
   "source": [
    "## 1. Einführung und Ziel\n",
    "\n",
    "In diesem Notebook sollen weitere SymPy Konstrukte in etwas systematischerer Form vorgestellt werden. Dabei werden wir verschiedene mathematische Themenstellungen behandeln. Dazu gehören\n",
    "\n",
    "* Geometrische Berechnungen\n",
    "* Kurvendiskussion\n",
    "* Spezielle Funktionen\n",
    "* Gewöhnliche Differentialgleichungen\n"
   ]
  },
  {
   "cell_type": "markdown",
   "metadata": {},
   "source": [
    "## 2. Geometrie\n",
    "\n",
    "Sympy kann zur Lösung einfacher geometrischer Probleme genutzt werden. Hier ist ein Beispiel - der _Satz von Pappos_.\n",
    "\n",
    "> **Satz (von Pappos)**: Liegen sechs Punkte, $A,B,C$ und $a,b,c$ einer projektiven Ebene jeweils auf zwei Geraden $g$ und $h$, so sind die Punkte $$\\begin{array}{l}X := Ab \\cap aB \\\\ Y := Ac \\cap aC \\\\ Z := Bc \\cap bC \\end{array}$$ kollinear, d.h. sie liegen auf einer Geraden $u$. _(zitiert nach [Wikipedia](https://de.wikipedia.org/wiki/Satz_von_Pappos))_\n",
    "\n",
    "![Satz von Pappos](figs/SWPrak08-Pappos.png \"Illustration Satz von Pappos\")\n",
    "\n",
    "Weitere Informationen zur Nutzung von geometrischen Objekten finden sich in der [Online-Dokumentation](https://docs.sympy.org/latest/modules/geometry/index.html), aus der auch die Implementation des Satzes von Pappos abgeleitet wurde."
   ]
  },
  {
   "cell_type": "code",
   "execution_count": null,
   "metadata": {},
   "outputs": [],
   "source": [
    "from sympy import *\n",
    "from sympy.geometry import Point, Line, intersection\n",
    "\n",
    "# Definiere zwei Geraden (g und h)\n",
    "g = Line(Point(0,0), Point(5,6))\n",
    "h = Line(Point(0,0), Point(2,-2))\n",
    "\n",
    "# Die folgende Funktion wählt feste Punkte auf einer Linie\n",
    "def punkt(l,val):\n",
    "    t  = Symbol('t',real=True)\n",
    "    pt = l.arbitrary_point()\n",
    "    return Point(pt.x.subs(t,val),pt.y.subs(t,val))\n",
    "\n",
    "# Nun setzen wir beliebige Punkte auf g\n",
    "g1 = punkt(g,5)\n",
    "g2 = punkt(g,7)\n",
    "g3 = punkt(g,11)\n",
    "\n",
    "# Das Gleiche für h\n",
    "h1 = punkt(h,-1)\n",
    "h2 = punkt(h,2)\n",
    "h3 = punkt(h,9)\n",
    "\n",
    "# jetzt berechnen wir die sechs linien, deren Schnittpunkte wir suchen\n",
    "l1 = Line(g1,h2)\n",
    "l2 = Line(h1,g2)\n",
    "\n",
    "l3 = Line(g1,h3)\n",
    "l4 = Line(g3,h1)\n",
    "\n",
    "l5 = Line(g2,h3)\n",
    "l6 = Line(g3,h2)\n",
    "\n",
    "# Nun die Schnittpunkte\n",
    "x = intersection(l1,l2)[0]\n",
    "y = intersection(l3,l4)[0]\n",
    "z = intersection(l5,l6)[0]\n",
    "\n",
    "# Teste Kollinearität\n",
    "Point.is_collinear(x,y,z)"
   ]
  },
  {
   "cell_type": "markdown",
   "metadata": {},
   "source": [
    "## 3. Kurvendiskussion\n",
    "\n",
    "Für die Kurvendiskussion lassen sich eine Reihe von Funktionen in SymPy nutzen. Hier ein paar Beispiele, die aus der [SymPy Dokumentation](https://docs.sympy.org/latest/modules/calculus/index.html) übernommen sind, in der auch weitere Informationen zu finden sind.\n",
    "\n",
    "Wir verwenden für diese Beispiele die Funktion\n",
    "$$\n",
    "f(x) = 5x^3 -2x^2 +1\n",
    "$$"
   ]
  },
  {
   "cell_type": "code",
   "execution_count": null,
   "metadata": {},
   "outputs": [],
   "source": [
    "x = Symbol('x')\n",
    "f = 5*x**3 - 25*x**2 + 1"
   ]
  },
  {
   "cell_type": "markdown",
   "metadata": {},
   "source": [
    "Wir verwenden die Plot-Funktion aus dem Modul `sympy.plotting`, um uns diese Funktion einmal zu visualisieren."
   ]
  },
  {
   "cell_type": "code",
   "execution_count": null,
   "metadata": {},
   "outputs": [],
   "source": [
    "from sympy.plotting import plot\n",
    "plot(f,(x,-4,8))"
   ]
  },
  {
   "cell_type": "markdown",
   "metadata": {},
   "source": [
    "Nun können wir die dargestellte Kurve analysieren. Beispielsweise können wir sie auf Monotonie, bzw. steigende oder abfallende Segmente untersuchen. "
   ]
  },
  {
   "cell_type": "code",
   "execution_count": null,
   "metadata": {},
   "outputs": [],
   "source": [
    "print('Fallend in [0,2]? ', is_decreasing(f,Interval(0,2)))\n",
    "print('Steigend für x>4? ', is_increasing(f,Interval.Lopen(4,oo)))\n",
    "print('Monoton?          ', is_monotonic(f))\n",
    "print('Monoton für x<0?  ', is_monotonic(f,Interval.Ropen(-oo,0)))"
   ]
  },
  {
   "cell_type": "markdown",
   "metadata": {},
   "source": [
    "Jetzt lassen wir SymPy die Singularitäten und die Nullstellen der Funktion berechnen:"
   ]
  },
  {
   "cell_type": "code",
   "execution_count": null,
   "metadata": {},
   "outputs": [],
   "source": [
    "from sympy.calculus.singularities import singularities\n",
    "print('Singularitäten: ', singularities(f,x))\n",
    "print('Nullstellen:    ', solve(f,x))"
   ]
  },
  {
   "cell_type": "markdown",
   "metadata": {},
   "source": [
    "Auch Minima und Maxima, sowie Wendepunkte lassen sich mit SymPy einfach berechnen:"
   ]
  },
  {
   "cell_type": "code",
   "execution_count": null,
   "metadata": {},
   "outputs": [],
   "source": [
    "print('Minimum in [0,6]: ', minimum(f,x,Interval(0,6)))\n",
    "print('Maximum in [-2,2]:', maximum(f,x,Interval(-2,2)))\n",
    "print('Wendepunkte:      ', stationary_points(f,x))"
   ]
  },
  {
   "cell_type": "markdown",
   "metadata": {},
   "source": [
    "Schließlich lassen sich auch Ableitungen bilden:"
   ]
  },
  {
   "cell_type": "code",
   "execution_count": null,
   "metadata": {},
   "outputs": [],
   "source": [
    "print('Erste Ableitung von f: ', diff(f,x))"
   ]
  },
  {
   "cell_type": "markdown",
   "metadata": {},
   "source": [
    "## 4. Spezielle Funktionen\n",
    "\n",
    "In SymPy sind eine Reihe spezieller Funktionen schon vordefiniert, die wir verwenden können. Auch den Umgang mit Funktions-Platzhaltern wollen wir in diesem Abschnitt ansehen.\n",
    "\n",
    "Der SymPy Befehl `Function` definiert eine abstrakte Funktion. Dabei kann direkt angegeben werden, von welchen Variablen die Funktion abhängt. "
   ]
  },
  {
   "cell_type": "code",
   "execution_count": null,
   "metadata": {},
   "outputs": [],
   "source": [
    "# Definiere f ohne und g mit abhängiger Variable:\n",
    "f = Function('f')\n",
    "g = Function('g')(x)\n",
    "print(f,g)\n",
    "\n",
    "# Die Ableitung kann abstrakt gebildet werden:\n",
    "print(f(x).diff(x), g.diff(x))"
   ]
  },
  {
   "cell_type": "markdown",
   "metadata": {},
   "source": [
    "Wenn eine eigene Funktion definiert werden soll, dann kann der `def` Befehl verwendet werden. Dann kann aber auch mit einer solchen Funktion mit Symbolen operiert werden."
   ]
  },
  {
   "cell_type": "code",
   "execution_count": null,
   "metadata": {},
   "outputs": [],
   "source": [
    "def my_func(x):\n",
    "    return exp(x) + x**2\n",
    "\n",
    "a=S('a')\n",
    "my_func(a)"
   ]
  },
  {
   "cell_type": "markdown",
   "metadata": {},
   "source": [
    "Jetzt wollen wir einige Beispiele spezieller Funktionen vorstellen. Wir beginnen mit den **trigonometrischen Funktionen**. Für diese vordefinierten Funktionen existiert in der Regel auch schon eine Methode, die erste Ableitung zu berechnen:"
   ]
  },
  {
   "cell_type": "code",
   "execution_count": null,
   "metadata": {},
   "outputs": [],
   "source": [
    "print('Die Sinus-Funktion ausgewertet an pi/4: ', sin(pi/4))\n",
    "print('Die Ableitung des Sinus:                ', sin(x).diff(x))\n",
    "print('Die Ableitung von cos(x**2)             ', cos(x**2).diff(x))\n",
    "print('Der Tangens an der Stelle pi/2          ', tan(pi/2))\n",
    "print('Der Arcuscosinus von 1                  ', acos(1))\n",
    "print('Der Arcustangens von oo                 ', atan(oo))"
   ]
  },
  {
   "cell_type": "markdown",
   "metadata": {},
   "source": [
    "Natürlich existiert die **Exponentialfunktion** und ihre Umkehrfunktion, der Logarithmus:"
   ]
  },
  {
   "cell_type": "code",
   "execution_count": null,
   "metadata": {},
   "outputs": [],
   "source": [
    "print('Exponentialfunktion von pi: ', exp(pi), ' und das gleiche als E**pi ', E**pi)\n",
    "print('Der natürliche Logarithmus  ', log(pi))\n",
    "print('Der Logarithmus zur basis 10', log(pi,10))"
   ]
  },
  {
   "cell_type": "markdown",
   "metadata": {},
   "source": [
    "Eine Reihe **kombinatorischer Funktionen** sind verfügbar. Hier nur zwei Beispiele, eine weitere Beschreibung findet sich in der [SymPy Dokumentation](https://docs.sympy.org/latest/modules/functions/combinatorial.html). \n",
    "\n",
    "Als erstes berechnen wir Pascal's Dreieck bis zur Ebene 7 unter Benutzung der binomischen Funktion:"
   ]
  },
  {
   "cell_type": "code",
   "execution_count": null,
   "metadata": {},
   "outputs": [],
   "source": [
    "for N in range(7):\n",
    "    print([binomial(N,i) for i in range(N+1)])"
   ]
  },
  {
   "cell_type": "markdown",
   "metadata": {},
   "source": [
    "Das zweite Beispiel berechnet eine rationale Näherung an den Goldenen Schnitt als einen Bruch der Fibonacci Zahlen:"
   ]
  },
  {
   "cell_type": "code",
   "execution_count": null,
   "metadata": {},
   "outputs": [],
   "source": [
    "print([fibonacci(i)/fibonacci(i+1) for i in range(8)])"
   ]
  },
  {
   "cell_type": "markdown",
   "metadata": {},
   "source": [
    "Schließlich gibt es noch eine Reihe weiterer **Spezieller Funktionen** wie die\n",
    "\n",
    "* Dirac Delta Funktion (Distributionen),\n",
    "* Heaviside Funktion,\n",
    "* Gamma-Funktion,\n",
    "* Gaußsche Fehlerfunktion,\n",
    "* etc.,\n",
    "\n",
    "die ausführlicher in der [SymPy Dokumentation](https://docs.sympy.org/latest/modules/functions/special.html) dokumentiert sind."
   ]
  },
  {
   "cell_type": "code",
   "execution_count": null,
   "metadata": {},
   "outputs": [],
   "source": [
    "print('Dirac Delta (0):  ', DiracDelta(0))\n",
    "print('Dirac Delta (pi): ', DiracDelta(pi))\n",
    "print('Ableitung von Dirac Delta (x-1): ', diff(DiracDelta(x-1),x))\n",
    "diff(DiracDelta(x-1),x)"
   ]
  },
  {
   "cell_type": "code",
   "execution_count": null,
   "metadata": {},
   "outputs": [],
   "source": [
    "print('Fehlerfunktion in 0:  ', erf(0))\n",
    "print('Fehlerfunktion in oo: ', erf(oo))\n",
    "print('Fehlerfunktion in x:  ', erf(x))\n",
    "print('Fehlerfunktion in pi: ', erf(pi))\n",
    "print('Ableitung der Fehlerfunktion: ', diff(erf(x),x,1))"
   ]
  },
  {
   "cell_type": "markdown",
   "metadata": {},
   "source": [
    "Recht nützlich können manchmal auch die **ganzzahligen Rundungsfunktionen** sein:"
   ]
  },
  {
   "cell_type": "code",
   "execution_count": null,
   "metadata": {},
   "outputs": [],
   "source": [
    "print('Die kleinste ganze Zahl >= Argument: ceiling(pi) ', ceiling(pi))\n",
    "print('Die größte ganze Zahl   <= Argument: floor(pi)   ', floor(pi))\n",
    "print('Der Restbruch der Eulerschen Zahl: frac(E)       ', frac(E))\n",
    "print('Der Restbruch einer Rationalen Zahl: frac(7/6)   ', frac(Rational(7,6)))"
   ]
  },
  {
   "cell_type": "markdown",
   "metadata": {},
   "source": [
    "## 5. Gewöhnliche Differentialgleichungen\n",
    "\n",
    "Am Ende dieser Einheit wollen wir uns noch recht kurz mit der Lösung von gewöhnlichen Differentialgleichungen mittels symbolischer Programmierung beschäftigen.\n",
    "\n",
    "Wir gehen zunächst von einer gewöhnlichen Differentialgleichung der Form\n",
    "$$\n",
    "f(x) = F(x,f,f',\\ldots,f^{(n)})\n",
    "$$\n",
    "aus. Der grundlegende SymPy Befehl zur Lösung einer solchen Differentialgleichung lautet `dsolve`. Hier ist ein einfaches Beispiel:"
   ]
  },
  {
   "cell_type": "code",
   "execution_count": null,
   "metadata": {},
   "outputs": [],
   "source": [
    "# Definiere die DGL:\n",
    "f = Function('f')\n",
    "rhs = Derivative(f(x),x,x) + 2 * f(x)\n",
    "\n",
    "# Löse mittels dsolve\n",
    "dsolve(rhs,f(x))"
   ]
  },
  {
   "cell_type": "markdown",
   "metadata": {},
   "source": [
    "Hilfreich für die Analyse kann manchmal die Klassifikation der Differentialgleichung sein, die man mittels der Sympy Funktion `classify_ode` anzeigen lassen kann."
   ]
  },
  {
   "cell_type": "code",
   "execution_count": null,
   "metadata": {},
   "outputs": [],
   "source": [
    "classify_ode(rhs,f(x))"
   ]
  },
  {
   "cell_type": "markdown",
   "metadata": {},
   "source": [
    "## 6. Aufgaben\n",
    "\n",
    "1. **Aufgabe (Kurvendiskussion)**: Gegeben sei die Funktion $$g(x)= -2x^2 + 2x + 5.$$ Führen Sie eine Kurvendiskussion durch, das heißt, berechnen Sie die Maxima/Minima, Wendepunkte, Nullstellen und das Monotonie-Verhalten. Ist die Funktion auch konvex?"
   ]
  },
  {
   "cell_type": "code",
   "execution_count": null,
   "metadata": {},
   "outputs": [],
   "source": []
  },
  {
   "cell_type": "markdown",
   "metadata": {},
   "source": [
    "2. **Aufgabe (Spezielle Funktionen)**: Berechnen Sie die Heaviside Funktion an den Stellen $\\{-1,0,1\\}$, sowie deren Ableitung."
   ]
  },
  {
   "cell_type": "code",
   "execution_count": null,
   "metadata": {},
   "outputs": [],
   "source": []
  },
  {
   "cell_type": "markdown",
   "metadata": {},
   "source": [
    "3. **Aufgabe (Differentialgleichung)**: Lösen Sie die gewöhnliche Differentialgleichung\n",
    "$$\n",
    "y(t) = sin(t)*y'(t) - cos(t)*y(t).\n",
    "$$"
   ]
  },
  {
   "cell_type": "code",
   "execution_count": null,
   "metadata": {},
   "outputs": [],
   "source": []
  },
  {
   "cell_type": "markdown",
   "metadata": {},
   "source": [
    "---\n",
    "1) <span id=\"fn1\">Copyright Notice:\n",
    "    \n",
    "    Fortgeschrittene Symbolische Programmierung II, Copyright (C) 2020  Jörn Behrens\n",
    "    \n",
    "        Prof. Dr. Jörn Behrens\n",
    "        Universität Hamburg, Dept. Mathematik\n",
    "        Bundesstrasse 55\n",
    "        20146 Hamburg, Germany\n",
    "        joern.behrens@uni-hamburg.de\n",
    "\n",
    "    This program is free software; you can redistribute it and/or modify\n",
    "    it under the terms of the GNU General Public License as published by\n",
    "    the Free Software Foundation; either version 2 of the License, or\n",
    "    (at your option) any later version.\n",
    "\n",
    "    This program is distributed in the hope that it will be useful,\n",
    "    but WITHOUT ANY WARRANTY; without even the implied warranty of\n",
    "    MERCHANTABILITY or FITNESS FOR A PARTICULAR PURPOSE.  See the\n",
    "    GNU General Public License for more details.\n",
    "\n",
    "    You should have received a copy of the GNU General Public License along\n",
    "    with this program; if not, write to the Free Software Foundation, Inc.,\n",
    "    51 Franklin Street, Fifth Floor, Boston, MA 02110-1301 USA.\n",
    "\n",
    "\n",
    "</span>"
   ]
  },
  {
   "cell_type": "code",
   "execution_count": null,
   "metadata": {},
   "outputs": [],
   "source": []
  }
 ],
 "metadata": {
  "kernelspec": {
   "display_name": "Python 3",
   "language": "python",
   "name": "python3"
  },
  "language_info": {
   "codemirror_mode": {
    "name": "ipython",
    "version": 3
   },
   "file_extension": ".py",
   "mimetype": "text/x-python",
   "name": "python",
   "nbconvert_exporter": "python",
   "pygments_lexer": "ipython3",
   "version": "3.7.7"
  }
 },
 "nbformat": 4,
 "nbformat_minor": 4
}
