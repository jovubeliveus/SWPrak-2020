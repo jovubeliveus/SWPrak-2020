{
 "cells": [
  {
   "cell_type": "markdown",
   "metadata": {},
   "source": [
    "_Softwarepraktikum Blockkurs März 2020 (WS2019/20)_ "
   ]
  },
  {
   "cell_type": "markdown",
   "metadata": {},
   "source": [
    "# Fortgeschrittene Symbolische Programmierung I[<sup>1</sup>](#fn1)"
   ]
  },
  {
   "cell_type": "markdown",
   "metadata": {},
   "source": [
    "[Jörn Behrens](https://www.math.uni-hamburg.de/numgeo/) (joern.behrens@uni-hamburg.de)"
   ]
  },
  {
   "cell_type": "markdown",
   "metadata": {},
   "source": [
    "## 1. Einführung und Ziel\n",
    "\n",
    "Nachdem wir nun erste Erfahrungen mit der symbolischen Programmierung gesammelt haben und nachdem wir auch Graphiken erzeugen können, werden wir uns nun etwas tiefer in die symbolische Programmierung mit SymPy einarbeiten. \n",
    "\n",
    "## 2. Spezifika und Fallstricke\n",
    "\n",
    "### Expression-Trees\n",
    "\n",
    "Zunächst brauchen wir ein erweitertes Verständnis davon, wie SymPy arbeitet, damit wir manche der Reaktionen verstehen. Dazu beginnen wir mit der Einführung von sogenantnen _Expression-Trees_. Jeder symbolische Ausdruck in SymPy ist zerlegt in elementare Ausdrück, die wiederum hierarchisch aufgebaut sind. Beispiele in diesem Teil sind angelehnt an die [SymPy Dokumentation](https://docs.sympy.org/latest/tutorial/manipulation.html)."
   ]
  },
  {
   "cell_type": "code",
   "execution_count": null,
   "metadata": {},
   "outputs": [],
   "source": [
    "from sympy import *\n",
    "\n",
    "x,y,z = symbols('x y z')\n",
    "expr  = x**2 + x*y\n",
    "srepr(expr)"
   ]
  },
  {
   "cell_type": "markdown",
   "metadata": {},
   "source": [
    "Im obigen Beispiel haben wir zunächst einen Ausdruck $x^2+xy$ erzeugt und mit dem Befehl `srepr` analysiert. Die Klammerschachtelung entspricht dabei einer Baumtiefe. Der zugehörige Expression-Tree sieht dann etwa so aus:\n",
    "![Expression Tree 1](figs/SWPrak07-exprtree1.png \"Expression Tree for x**2 + x*y\")\n",
    "\n",
    "Interessant sind die Expression-Trees für die Operationen $x-y$ und $\\frac{x}{y}$:"
   ]
  },
  {
   "cell_type": "code",
   "execution_count": null,
   "metadata": {},
   "outputs": [],
   "source": [
    "srepr(x-y)"
   ]
  },
  {
   "cell_type": "markdown",
   "metadata": {},
   "source": [
    "Dies entspricht dem folgenden Expression-Tree\n",
    "![Expression Tree 2](figs/SWPrak07-exprtree2.png \"Expression Tree for x-y\")"
   ]
  },
  {
   "cell_type": "code",
   "execution_count": null,
   "metadata": {},
   "outputs": [],
   "source": [
    "srepr(x/y)"
   ]
  },
  {
   "cell_type": "markdown",
   "metadata": {},
   "source": [
    "Dies entspricht dem folgenden Expression-Tree\n",
    "![Expression Tree 3](figs/SWPrak07-exprtree3.png \"Expression Tree for x/y\")\n",
    "\n",
    "Es gibt also keine Division und auch keine Subtraktion, sondern lediglich die Multiplikation und die Addition, sowie die Potenz.\n",
    "\n",
    "Häufig wird auch die Reihenfolge der Operationen in der internen Darstellung vertauscht, wenn angenommen werden kann, dass die Operationen kommutativ sind. Soll das ausgeschlossen werden, kann ein Attribut bei der Definition des Symbols entsprechend gesetzt werden, z.b. `Symbol('A',commutative=false)`."
   ]
  },
  {
   "cell_type": "code",
   "execution_count": null,
   "metadata": {},
   "outputs": [],
   "source": [
    "srepr(-y+x)"
   ]
  },
  {
   "cell_type": "markdown",
   "metadata": {},
   "source": [
    "### Die func Methode\n",
    "\n",
    "Jedes Objekt in SymPy besitzt eine Methode `func`, welche die jeweilige elementare Funktion, die sich hinter der symbolischen Schreibweise verbirgt, anzeigt. Hier ein paar Beispiele. Was verbirgt sich hinter der Addition einer symbolischen Variable x mit sich selbst, also $x+x$?"
   ]
  },
  {
   "cell_type": "code",
   "execution_count": null,
   "metadata": {},
   "outputs": [],
   "source": [
    "expr = Add(x,x)\n",
    "expr.func"
   ]
  },
  {
   "cell_type": "markdown",
   "metadata": {},
   "source": [
    "Zu unserer Überraschung verbirgt sich hinter der Addition von x mit sich selbst eine Multiplikation! Wir stellen fest, dass `Add(x,x)` automatisch in eine Multiplikation von $x$ mit 2, also in $2x$ übersetzt wird:"
   ]
  },
  {
   "cell_type": "code",
   "execution_count": null,
   "metadata": {},
   "outputs": [],
   "source": [
    "expr"
   ]
  },
  {
   "cell_type": "markdown",
   "metadata": {},
   "source": [
    "Weitere einfache Beispiele:"
   ]
  },
  {
   "cell_type": "code",
   "execution_count": null,
   "metadata": {},
   "outputs": [],
   "source": [
    "Integer(2).func"
   ]
  },
  {
   "cell_type": "code",
   "execution_count": null,
   "metadata": {},
   "outputs": [],
   "source": [
    "Integer(0).func"
   ]
  },
  {
   "cell_type": "code",
   "execution_count": null,
   "metadata": {},
   "outputs": [],
   "source": [
    "Integer(-1).func"
   ]
  },
  {
   "cell_type": "markdown",
   "metadata": {},
   "source": [
    "### Die args Methode\n",
    "\n",
    "So, wie es eine `func` Methode gibt, so gibt es für jedes Symbol auch eine `args` Methode, welche die Argumente angibt, die in die elementare Funktion übergeben werden. \n",
    "\n",
    "**Die Argumentenliste ist leer, wenn wir an einem Blatt des Expression-Tree angekommen sind!**\n",
    "\n",
    "Schauen wir uns das einmal an einem Beispiel ($3y^2x$) an:"
   ]
  },
  {
   "cell_type": "code",
   "execution_count": null,
   "metadata": {},
   "outputs": [],
   "source": [
    "expr = 3 * y**2 * x\n",
    "expr.func"
   ]
  },
  {
   "cell_type": "code",
   "execution_count": null,
   "metadata": {},
   "outputs": [],
   "source": [
    "expr.args"
   ]
  },
  {
   "cell_type": "code",
   "execution_count": null,
   "metadata": {},
   "outputs": [],
   "source": [
    "Integer(3).args"
   ]
  },
  {
   "cell_type": "code",
   "execution_count": null,
   "metadata": {},
   "outputs": [],
   "source": [
    "x.args"
   ]
  },
  {
   "cell_type": "markdown",
   "metadata": {},
   "source": [
    "Der gesamte Ausdruck kann aus den beiden Methoden `func` und `args` rekonstruiert werden!\n",
    "\n",
    "_Bemerkung: Wir müssen für die Argumentliste `*expr.args` angeben, damit der die Argumentliste in der Funktion ausgewerten werden kann, eigentlich wird hier ein Zeiger übergeben und nicht die Liste selbst_"
   ]
  },
  {
   "cell_type": "code",
   "execution_count": null,
   "metadata": {},
   "outputs": [],
   "source": [
    "expr.func(*expr.args)"
   ]
  },
  {
   "cell_type": "markdown",
   "metadata": {},
   "source": [
    "Wir sehen also, dass der folgende Ausdruck wahr ist:"
   ]
  },
  {
   "cell_type": "code",
   "execution_count": null,
   "metadata": {},
   "outputs": [],
   "source": [
    "expr == expr.func(*expr.args)"
   ]
  },
  {
   "cell_type": "markdown",
   "metadata": {},
   "source": [
    "Wir können eine Invariante (oder einen Satz) formulieren:\n",
    "\n",
    ">**Satz: Für jeden wohl-formulierten SymPy Ausdruck `expr` gilt entweder**\n",
    ">* **`expr.args = ()`, oder**\n",
    ">* **`expr = expr.func(*expr.args)`**"
   ]
  },
  {
   "cell_type": "markdown",
   "metadata": {},
   "source": [
    "### Baum-Traversierung\n",
    "\n",
    "Mit diesen Methoden können wir nun ein kleines rekursives Programm schreiben, mit dem der Expression-Tree durchlaufen werden kann. Wir wissen, dass ein Blatt erreicht ist, wenn die Argumentenliste leer ist und können damit den rekursiven Algorithmus abbrechen lassen. \n",
    "\n",
    "Wir wollen uns auf jeder Ebene den Teilbaum-Ausdruck ausgeben lassen. Das Eingabe-Argument für unseren Algorithmus ist also ein SymPy Ausdruck `expr` von welchem wir uns zunächst einen Eindruck verschaffen, bevor wir die Argumente jeweils wieder als Ausdrücke rekursiv weitergeben."
   ]
  },
  {
   "cell_type": "code",
   "execution_count": null,
   "metadata": {},
   "outputs": [],
   "source": [
    "def rec_travers(expr):\n",
    "    print(expr)\n",
    "    for arg in expr.args:\n",
    "        rec_travers(arg)"
   ]
  },
  {
   "cell_type": "markdown",
   "metadata": {},
   "source": [
    "Wenden wir nun dieses kleine Programm auf einen Ausdruck an, zum Beispiel $x*y + 1$:"
   ]
  },
  {
   "cell_type": "code",
   "execution_count": null,
   "metadata": {},
   "outputs": [],
   "source": [
    "expr = x*y + 1\n",
    "rec_travers(expr)"
   ]
  },
  {
   "cell_type": "markdown",
   "metadata": {},
   "source": [
    "_Bemerkung: Diese Art der Traversierung ist schon als eine der SymPy Routinen vorhanden. Es gibt dazu die Funktionen `preorder_traversal` und `postorder_traversal`._"
   ]
  },
  {
   "cell_type": "markdown",
   "metadata": {},
   "source": [
    "### Auswertung verhindern\n",
    "\n",
    "Manchmal ist es sinnvoll die automatische Auswertung bzw. Umwandlung von Ausdrücken zu verhindern. Wir haben oben gesehen, dass $x+x$ automatisch zu $2x$ wird. Wenn man das vermeiden möchte, gibt es verschiedene Möglichkeiten:\n",
    "\n",
    "* `expr = Add(x,x,evaluate=false)`\n",
    "* `sympify(\"x + x\",evaluate=false)`\n",
    "* `expr = x + UnevaluatedExpr(x)`"
   ]
  },
  {
   "cell_type": "code",
   "execution_count": null,
   "metadata": {},
   "outputs": [],
   "source": [
    "expr1 = x+x\n",
    "expr2 = Add(x,x,evaluate=false)\n",
    "expr3 = sympify(\"x+x\",evaluate=false)\n",
    "expr4 = x + UnevaluatedExpr(x)\n",
    "print(expr1,'  ;  ',expr2,'  ;  ',expr3,'  ;  ',expr4)"
   ]
  },
  {
   "cell_type": "markdown",
   "metadata": {},
   "source": [
    "### Gleichheit\n",
    "\n",
    "Das Gleichheitszeichen ist eine Zuordnung keine Gleichung! So können Ausdrücke zugeordnet werden"
   ]
  },
  {
   "cell_type": "code",
   "execution_count": null,
   "metadata": {},
   "outputs": [],
   "source": [
    "a = (x + y)**2\n",
    "print(a)"
   ]
  },
  {
   "cell_type": "markdown",
   "metadata": {},
   "source": [
    "Um Gleichheit von Ausdrücken zu testen, kann das doppelte Gleicheitszeichen `==` verwendet werden. Es kann jedoch nicht gleichzeitig Vereinfachen, sondern testet tatsächlich exakte Gleichheit von Ausdrücken:"
   ]
  },
  {
   "cell_type": "code",
   "execution_count": null,
   "metadata": {},
   "outputs": [],
   "source": [
    "(x + y)**2 == x**2 + 2*x*y + y**2"
   ]
  },
  {
   "cell_type": "code",
   "execution_count": null,
   "metadata": {},
   "outputs": [],
   "source": [
    "(x + y)**2 == (x + y)**2"
   ]
  },
  {
   "cell_type": "markdown",
   "metadata": {},
   "source": [
    "Dabei heißt exakte Gleichheit, eben im Sinne des Expression-Trees. Die folgenden Ausdrücke sind natürlich exakt gleich, denn sie werden intern in exakt derselben Weise dargestellt:"
   ]
  },
  {
   "cell_type": "code",
   "execution_count": null,
   "metadata": {},
   "outputs": [],
   "source": [
    "3 * y**2 * x == x * 3 * y**2"
   ]
  },
  {
   "cell_type": "code",
   "execution_count": null,
   "metadata": {},
   "outputs": [],
   "source": [
    "srepr(3 * y**2 * x)"
   ]
  },
  {
   "cell_type": "code",
   "execution_count": null,
   "metadata": {},
   "outputs": [],
   "source": [
    "srepr(x * 3 * y**2)"
   ]
  },
  {
   "cell_type": "markdown",
   "metadata": {},
   "source": [
    "Um symbolische Gleichheit zu testen, kann man die zu testenden Ausdrücke von einander subtrahieren und in einer Funktion wie `simplify`, `expand`, etc. testen:"
   ]
  },
  {
   "cell_type": "code",
   "execution_count": null,
   "metadata": {},
   "outputs": [],
   "source": [
    "simplify((x+y)**2 - (x**2 + 2*x*y + y**2))"
   ]
  },
  {
   "cell_type": "markdown",
   "metadata": {},
   "source": [
    "### Variablen\n",
    "\n",
    "**Achtung:** Variablen behalten zunächst immer den Wert, der ihnen bei Instantiierung zugewiesen wurde. Hier ein Beispiel:"
   ]
  },
  {
   "cell_type": "code",
   "execution_count": null,
   "metadata": {
    "scrolled": true
   },
   "outputs": [],
   "source": [
    "a = Symbol('a')\n",
    "print(a)\n",
    "b = a + 1\n",
    "print(b)\n",
    "a = 4\n",
    "print(a)\n",
    "print(b)"
   ]
  },
  {
   "cell_type": "markdown",
   "metadata": {},
   "source": [
    "Wenn aber die Variable auch neu berechnet wird, dann kann auch ihr Wert aufdatiert werden. Das folgende Beispiel zeigt es:"
   ]
  },
  {
   "cell_type": "code",
   "execution_count": null,
   "metadata": {},
   "outputs": [],
   "source": [
    "p, z, s = var('preis zahl summe')\n",
    "d = p*z\n",
    "print('Original d: ',d)\n",
    "p = 5\n",
    "z = 40\n",
    "print('p: ',p,' z: ',z,' d: ',d)\n",
    "d = p*z\n",
    "print('d nach Neuberechnung: ',d)"
   ]
  },
  {
   "cell_type": "markdown",
   "metadata": {},
   "source": [
    "Eine elegante Lösung ist es, sich entsprechende Funktionen einzurichten:"
   ]
  },
  {
   "cell_type": "code",
   "execution_count": null,
   "metadata": {},
   "outputs": [],
   "source": [
    "def sumpreis():\n",
    "    return p*z"
   ]
  },
  {
   "cell_type": "code",
   "execution_count": null,
   "metadata": {},
   "outputs": [],
   "source": [
    "p , z = var('preis zahl')\n",
    "print(sumpreis())\n",
    "p = 5\n",
    "z = 40\n",
    "print(sumpreis())"
   ]
  },
  {
   "cell_type": "markdown",
   "metadata": {},
   "source": [
    "### Symbole und Namen\n",
    "\n",
    "Bevor man eine Variable oder ein Symbol nutzen kann muss es natürlich deklariert werden. Der folgende Ausdruck wirft daher eine Fehlermeldung:"
   ]
  },
  {
   "cell_type": "code",
   "execution_count": null,
   "metadata": {},
   "outputs": [],
   "source": [
    "expr = u**2"
   ]
  },
  {
   "cell_type": "markdown",
   "metadata": {},
   "source": [
    "Nach einer Deklaration, die mit einem der folgenden Befehle erfolgen kann, löst man das Problem.\n",
    "* `sympy.var('u')` oder einfach nur `var('u')`\n",
    "* `u = symbols('u')`"
   ]
  },
  {
   "cell_type": "code",
   "execution_count": null,
   "metadata": {},
   "outputs": [],
   "source": [
    "var('u')\n",
    "expr = u**2\n",
    "print(expr)"
   ]
  },
  {
   "cell_type": "markdown",
   "metadata": {},
   "source": [
    "Die Liste der vordeklarierten Symbole und Funktionen kann man sich mit dem folgenden Befehl anzeigen lassen. Vorsicht, die Liste ist lang!"
   ]
  },
  {
   "cell_type": "code",
   "execution_count": null,
   "metadata": {},
   "outputs": [],
   "source": [
    "import sympy\n",
    "dir(sympy)"
   ]
  },
  {
   "cell_type": "markdown",
   "metadata": {},
   "source": [
    "**Warnung:** Python (und damit auch SymPy) erlaubt es, Symbole zu überschreiben. Das können wir am folgenden Beispiel demonstrieren, in dem wir einfach die Konstante $\\pi$ und die Cosinus-Funktion $\\cos$ durch Unsinn ersetzen. Glücklicherweise kann der Standard einfach wieder hergestellt werden, indem die entsprechenden Symbole erneut importiert werden."
   ]
  },
  {
   "cell_type": "code",
   "execution_count": null,
   "metadata": {},
   "outputs": [],
   "source": [
    "print('cos(pi) original: ',cos(pi))\n",
    "pi = 4\n",
    "def cos(x):\n",
    "    return 2*x\n",
    "print('cos(pi) nach Überschreiben: ',cos(pi))\n",
    "from sympy import cos, pi\n",
    "print('cos(pi) nach Wiederherstellung: ',cos(pi))"
   ]
  },
  {
   "cell_type": "markdown",
   "metadata": {},
   "source": [
    "### Zahldarstellung\n",
    "\n",
    "Fließkommazahlen können in SymPy mit dem Befehl `Float` erzeugt werden. Dabei kann man die Anzahl der signifikanten Ziffern angeben:"
   ]
  },
  {
   "cell_type": "code",
   "execution_count": null,
   "metadata": {},
   "outputs": [],
   "source": [
    "print('Default Darstellung mit 15 Ziffern: ',Float(pi))\n",
    "print('Darstellung mit 25 Ziffern: ', Float(pi,25))"
   ]
  },
  {
   "cell_type": "markdown",
   "metadata": {},
   "source": [
    "Rationale Zahlen lassen sich mit dem Befehl `Rational` erzeugen. Hier ein paar Beispiele:"
   ]
  },
  {
   "cell_type": "code",
   "execution_count": null,
   "metadata": {},
   "outputs": [],
   "source": [
    "list = [Rational(1,7), Rational(1,4), Rational(1,100)]\n",
    "list"
   ]
  },
  {
   "cell_type": "markdown",
   "metadata": {},
   "source": [
    "Jetzt schauen wir, wie sich diese Zahlen als Fließkommazahlen darstellen! Wir wollen dabei jeweils die 15 Ziffern sehen"
   ]
  },
  {
   "cell_type": "code",
   "execution_count": null,
   "metadata": {},
   "outputs": [],
   "source": [
    "for r in list:\n",
    "    print(Float(r))"
   ]
  },
  {
   "cell_type": "markdown",
   "metadata": {},
   "source": [
    "Die Genauigkeit der Fließkommazahlen ist jedoch nicht immer beliebig. In dem Moment, in dem eine Fließkommazahl angelegt wird, wird sie als Binärzahl gespeichert. Will man mehr Ziffern anzeigen, so werden diese im Zweifel mit (binären) Nullen erzeugt, was die Genauigkeit nicht erhöht. Hier ein Beispiel mit der Rationalen Zahl $\\frac{1}{7}$, die sich nicht als exakte Fließkommazahl (und schon gar nicht als Binärzahl) darstellen lässt."
   ]
  },
  {
   "cell_type": "code",
   "execution_count": null,
   "metadata": {},
   "outputs": [],
   "source": [
    "einsiebtel_rational = Rational(1,7)\n",
    "einsiebtel_float3   = Float(einsiebtel_rational,3)\n",
    "print(einsiebtel_float3)\n",
    "einsiebtel_floatf25 = Float(einsiebtel_float3,25)\n",
    "print(einsiebtel_floatf25)\n",
    "einsiebtel_floatt25 = Float(einsiebtel_rational,25)\n",
    "print(einsiebtel_floatt25)"
   ]
  },
  {
   "cell_type": "markdown",
   "metadata": {},
   "source": [
    "## 3. Aufgaben\n",
    "\n",
    "1. **Aufgabe (Fließkommadarstellung)**: Schätzen Sie zunächst das Ergebnis der SymPy operation `Float('0.1',10) + Float('0.1',3)`. Implementieren Sie diese Operation und versuchen Sie das Ergebnis zu interpretieren.\n",
    "1. **Aufgabe (Expression-Tree)**: Erzeugen Sie einen Expression-Tree für die folgenden Ausdrücke:\n",
    " * $\\int_0^{\\pi} \\cos(2x)^2 - x^2\\ dx$\n",
    " * $\\sqrt{2\\sin(x^2)}$\n",
    "1. **Aufgabe (Traversierung)**: Traversieren Sie die beiden Ausdrücke aus der vorigen Aufgabe mit Hilfe des kleinen rekursiven Programms."
   ]
  },
  {
   "cell_type": "markdown",
   "metadata": {},
   "source": [
    "---\n",
    "1) <span id=\"fn1\">Copyright Notice:\n",
    "    \n",
    "    Fortgeschrittene Symbolische Programmierung I, Copyright (C) 2020  Jörn Behrens\n",
    "    \n",
    "        Prof. Dr. Jörn Behrens\n",
    "        Universität Hamburg, Dept. Mathematik\n",
    "        Bundesstrasse 55\n",
    "        20146 Hamburg, Germany\n",
    "        joern.behrens@uni-hamburg.de\n",
    "\n",
    "    This program is free software; you can redistribute it and/or modify\n",
    "    it under the terms of the GNU General Public License as published by\n",
    "    the Free Software Foundation; either version 2 of the License, or\n",
    "    (at your option) any later version.\n",
    "\n",
    "    This program is distributed in the hope that it will be useful,\n",
    "    but WITHOUT ANY WARRANTY; without even the implied warranty of\n",
    "    MERCHANTABILITY or FITNESS FOR A PARTICULAR PURPOSE.  See the\n",
    "    GNU General Public License for more details.\n",
    "\n",
    "    You should have received a copy of the GNU General Public License along\n",
    "    with this program; if not, write to the Free Software Foundation, Inc.,\n",
    "    51 Franklin Street, Fifth Floor, Boston, MA 02110-1301 USA.\n",
    "\n",
    "\n",
    "</span>"
   ]
  },
  {
   "cell_type": "code",
   "execution_count": null,
   "metadata": {},
   "outputs": [],
   "source": [
    "help(cos)"
   ]
  },
  {
   "cell_type": "code",
   "execution_count": null,
   "metadata": {},
   "outputs": [],
   "source": []
  }
 ],
 "metadata": {
  "kernelspec": {
   "display_name": "Python 3",
   "language": "python",
   "name": "python3"
  },
  "language_info": {
   "codemirror_mode": {
    "name": "ipython",
    "version": 3
   },
   "file_extension": ".py",
   "mimetype": "text/x-python",
   "name": "python",
   "nbconvert_exporter": "python",
   "pygments_lexer": "ipython3",
   "version": "3.7.7"
  }
 },
 "nbformat": 4,
 "nbformat_minor": 4
}
