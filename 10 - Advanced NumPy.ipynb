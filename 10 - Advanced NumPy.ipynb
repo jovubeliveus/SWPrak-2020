{
 "cells": [
  {
   "cell_type": "markdown",
   "metadata": {},
   "source": [
    "_Softwarepraktikum Blockkurs März 2020 (WS2019/20)_ "
   ]
  },
  {
   "cell_type": "markdown",
   "metadata": {},
   "source": [
    "# NumPy Anwendungen[<sup>1</sup>](#fn1)"
   ]
  },
  {
   "cell_type": "markdown",
   "metadata": {},
   "source": [
    "[Jörn Behrens](https://www.math.uni-hamburg.de/numgeo/) (joern.behrens@uni-hamburg.de)"
   ]
  },
  {
   "cell_type": "markdown",
   "metadata": {},
   "source": [
    "## 1. Einführung und Ziel\n",
    "\n",
    "Ziel dieses Notebooks ist es, erweiterte Anwendungsmöglichkeiten anhand von ausgewählten Algorithmen zu demonstrieren. Wir werden im Folgenden vier wichtige Anwendungsfelder numerischer Programmierung anhand von Beispielen beleuchten.\n",
    "\n",
    "* Polynomielle Interpolation\n",
    "* Lösung von Gleichungssystemen\n",
    "* Lösung von Ausgleichsproblemen\n",
    "* Integration bzw. Lösung von gewöhnlichen Differentialgleichungen"
   ]
  },
  {
   "cell_type": "markdown",
   "metadata": {},
   "source": [
    "## 2. Interpolation\n",
    "\n",
    "Wir wollen die Interpolationsroutinen in SciPy verwenden um ein besonders schwierig zu interpolierendes Problem zu lösen. Das Interpolationsproblem allgemein ist dabei gegeben:\n",
    "\n",
    "> **Interpolationsproblem:** Sei eine Menge an Paaren $\\{(t_i,w_i): i=0,\\ldots,m\\}$ gegeben, wobei die $t_i$  Koordinaten darstellen und $w_i$ Werte. Dann besteht das Interpolationsproblem darin, ein Polynom $p$ vom Grade $m$ zu finden, so dass $$p(t_i) = w_i.$$\n",
    "\n",
    "Mit hilfe eines so gefundenen Polynoms, können dann Werte in den Zwischenräumen zwischen $t_i$ und $t_{i+1}$ ausgefüllt werden.\n",
    "\n",
    "Als Beispiel wollen wir ein Interpolationsproblem von Runge lösen, das folgende Funktion, gegeben an einzelnen Punkten, interpolieren soll:\n",
    "$$\n",
    "\\lambda(x) = \\frac{1}{1+25 x^2}.\n",
    "$$\n",
    "\n",
    "Wir werden diese Funktion im Intervall $[-1,1]$ an 11 Punkten vorgeben und dann mittels linearer Interpolation und mittels (stückweise) kubischer Spline Interpolation interpolieren. Außerdem können wir noch mit Lagrange Interpolations-Polynomen versuchen ein gute Approximation zu erreichen. Leider ist dieses Problem mit äquidistanten Punkten sehr schlecht für polynomielle Interpolation geeignet.\n",
    "\n",
    "Definieren wir also zunächst zwei Funktionen, eine um $\\lambda(x)$ zu berechnen, eine zweite für die Lagrange Interpolation:"
   ]
  },
  {
   "cell_type": "code",
   "execution_count": null,
   "metadata": {},
   "outputs": [],
   "source": [
    "def lmbda(x):\n",
    "    y= 1./(1.+25*x**2)\n",
    "    return y"
   ]
  },
  {
   "cell_type": "code",
   "execution_count": null,
   "metadata": {},
   "outputs": [],
   "source": [
    "def Lagrange(x,y,xx):\n",
    "    ''' Lagrange computes the Lagrange polynomial\n",
    "        x: nodes\n",
    "        y: interpolation values\n",
    "        xx: scalar point at which to interpolate \n",
    "    '''\n",
    "    from numpy import shape\n",
    "    \n",
    "    # determine length of data arrays\n",
    "    [n,]= shape(x)\n",
    "    [nn,]= shape(y)\n",
    "    if n != nn:\n",
    "        print('ERROR: x and y value vectors need to match in size')\n",
    "        return\n",
    "    \n",
    "    # initialize s\n",
    "    s= 0\n",
    "    \n",
    "    # loop over nodes\n",
    "    for i in range(n):\n",
    "        prod=y[i]\n",
    "        for j in range(n):\n",
    "            if i != j:\n",
    "                prod = prod*(xx-x[j])/(x[i]-x[j])\n",
    "        s= s+prod\n",
    "    return s"
   ]
  },
  {
   "cell_type": "markdown",
   "metadata": {},
   "source": [
    "Nun berechnen wir einerseits die Stützstellen $(t_i,w_i)$ und andererseits basierend auf einem sehr viel dichteren Gitter $x$ die Interpolierenden"
   ]
  },
  {
   "cell_type": "code",
   "execution_count": null,
   "metadata": {},
   "outputs": [],
   "source": [
    "from numpy import linspace, zeros, shape\n",
    "from scipy.interpolate import interp1d\n",
    "\n",
    "t = linspace(-1,1,11,endpoint=True) # die Stützstellen\n",
    "w = lmbda(t)                        # die Werte\n",
    "\n",
    "lin_int = interp1d(t,w)             # Stückweise lineare Interpolation\n",
    "cub_int = interp1d(t,w,kind='cubic')# Stückweise kubische Interpolation\n",
    "\n",
    "x = linspace(-1,1,101,endpoint=True)# Feines Gitter für die Interpolierten Werte\n",
    "l = lin_int(x)\n",
    "c = cub_int(x)\n",
    "\n",
    "p = zeros(shape(x))\n",
    "for i in range(x.size):\n",
    "    p[i]= Lagrange(t,w,x[i])        # Lagrange Interpolation\n",
    "\n",
    "e = lmbda(x)                        # exakte Werte auf feinem Gitter"
   ]
  },
  {
   "cell_type": "markdown",
   "metadata": {},
   "source": [
    "Mit Hilfe der erlernten Techniken zur Visualisierung stellen wir uns nun diese verschiedenen Interpolationen graphisch dar."
   ]
  },
  {
   "cell_type": "code",
   "execution_count": null,
   "metadata": {},
   "outputs": [],
   "source": [
    "import matplotlib.pyplot as plt\n",
    "\n",
    " # plot\n",
    "h1=plt.plot(t,w,'ro',label='Daten')\n",
    "h2=plt.plot(x,p,'b:',label='Lagrange')\n",
    "h3=plt.plot(x,e,'g--',label='Exakt')\n",
    "h4=plt.plot(x,l,'m-',label='Linear')\n",
    "h5=plt.plot(x,c,'c.-',label='Kubisch')\n",
    "plt.legend(loc='center right',bbox_to_anchor=(1.3, 0.5))\n",
    "plt.title('Interpolation')\n",
    "plt.xlabel('x/t (Stützstellen)')\n",
    "plt.ylabel('y/w (Werte)');"
   ]
  },
  {
   "cell_type": "markdown",
   "metadata": {},
   "source": [
    "## 3. Lösung linearer Gleichungssysteme\n",
    "\n",
    "Eine der Kernaufgaben der numerischen linearen Algebra ist die Lösung von linearen Gleichungssystemen. Diese treten überall auf und sind - gerade wenn sie groß werden - nur mit großem Aufwand lösbar. SciPy erlaubt es einem, bei moderaten Problemgrößen mit sehr wenig Programmieraufwand solche Systeme zu lösen. Der grundlegende Befehl dafür lautet\n",
    "\n",
    "* `solve`\n",
    "\n",
    "und ist im SciPy Untermodul linalg enthalten. Darüber hinaus gibt es eine große Menge weiterer Löser für speziell strukturierte Matrizen; Beispiele sind:\n",
    "\n",
    "* `solve_banded` für Bandmatrizen\n",
    "* `solve_toeplitz` für Toeplitz-Matrizen\n",
    "* `solve_circulant` für zyklische Matrizen\n",
    "\n",
    "Wir werden nur eine kleine Demonstration geben. Dabei ist die Matrix recht beliebig gewählt."
   ]
  },
  {
   "cell_type": "code",
   "execution_count": null,
   "metadata": {},
   "outputs": [],
   "source": [
    "from scipy.linalg import solve, lstsq\n",
    "from numpy import arange, ones, eye, diag, shape, loadtxt, array, transpose, multiply\n",
    "from numpy.random import rand\n",
    "A = 4*eye(5,5)-diag(ones(4),1)-diag(ones(4),-1)\n",
    "b = rand(5)     # rechte Seite b\n",
    "x = solve(A,b)  # Lösung\n",
    "print('Matrix A:\\n',A)\n",
    "print('Rechte Seite b:\\n',b)\n",
    "print('Lösung:\\n',x)"
   ]
  },
  {
   "cell_type": "markdown",
   "metadata": {},
   "source": [
    "## 4. Lineare Ausgleichsprobleme\n",
    "\n",
    "Lineare Ausgleichsprobleme sind sozusagen Geschwister der Interpolationsprobleme. Auch hier ist eine Menge an Paaren $\\{(t_i,w_i): i=0,\\ldots,m\\}$ gegeben. Jedoch soll nun die gesuchte Funktion die gegebenen Werte nicht exakt erreichen, sondern im quadratischen Mittel eine beste Annäherung erreichen. Das Problem lässt sich also formulieren als\n",
    "\n",
    "> **Ausgleichsproblem:** Sei eine Menge an Paaren $\\{(t_i,w_i): i=0,\\ldots,m\\}$ gegeben, wobei die $t_i$  Koordinaten darstellen und $w_i$ Werte. Sei weiter $\\varphi(t;x_1,\\ldots,x_n)$ eine Funktion in $t$, die von Parametern $x_1,\\ldots,x_n$ abhängt. Dann suchen wir diese Parameter $x_1,\\ldots,x_n$, so dass $$\\|\\varphi(t_i;x_1,\\ldots,x_n) - w_i\\|^2 = \\min !$$\n",
    "\n",
    "Wir versuchen also die Differenzen zwischen der Funktion $\\varphi$ und den gegebenen Werten zu minimieren. In der Regel wird dabei die Anzahl der Parameter klein gegenüber der Anzahl der Daten sein ($n\\ll m$).\n",
    "\n",
    "Wenn wir nun annehmen, dass $\\varphi$ durch ein lineares Modell gegeben ist, also\n",
    "$$\n",
    "\\varphi(t;x_1,\\ldots,x_n) = a_1(t)x_1 + \\cdots + a_n(t)x_n,\n",
    "$$\n",
    "Dann können wir das Problem als überbestimmtes System auffassen, das wir lediglich minimieren, aber nicht exakt lösen können:\n",
    "$$\n",
    "\\min = \\|w - Ax\\|^2,\n",
    "$$\n",
    "mit\n",
    "$$\n",
    "w = \\left[\\begin{array}{c}w_0\\\\ \\vdots \\\\ w_m\\end{array}\\right],\\ \n",
    "x = \\left[\\begin{array}{c}x_1\\\\ \\vdots \\\\ x_n\\end{array}\\right],\\ \n",
    "A = \\left[\\begin{array}{ccc}\n",
    "a_1(t_1) & \\cdots & a_n(t_1) \\\\ \n",
    "\\vdots & \\  & \\vdots \\\\ \n",
    "a_1(t_m) & \\cdots & a_n(t_m) \\\\ \n",
    "\\end{array}\\right]\n",
    "$$\n",
    "\n",
    "### Beispiel: Klimadaten für Hamburg\n",
    "\n",
    "Wir wollen nun ein Beispiel zeigen, in dem wir eine Datenreihe von mittleren Jahrestemperaturen für Hamburg für die Jahre 1892 bis 2010 mit einer linearen oder quadratischen Funktion annähern wollen. Diese Daten laden wir mit `loadtxt` aus einer Datei, die aus [1] herunter geladen wurde.\n",
    "\n",
    "[1] _Hamburger Bildungsserver, Klimadaten des Deutschen Wetterdienstes (DWD) von Stationen in Norddeutschland, http://bildungsserver.hamburg.de/contentblob/2872124/data/hamburg.zip, letzter Zugriff 09.12.2019._"
   ]
  },
  {
   "cell_type": "code",
   "execution_count": null,
   "metadata": {},
   "outputs": [],
   "source": [
    "raw=loadtxt('HHyearmean1892_2010.dat')\n",
    "year=array(raw[:,0])\n",
    "temp=array(raw[:,1])\n",
    "[m,n]=shape(raw)"
   ]
  },
  {
   "cell_type": "markdown",
   "metadata": {},
   "source": [
    "Jetzt müssen wir die Matrizen zu den beiden Funktionen erstellen. Wir wollen die lineare und quadratische Funktion\n",
    "$$\n",
    "\\phi(x)=a+b\\cdot x,\\quad \\psi(x)=a+b\\cdot x+c\\cdot x^2\n",
    "$$\n",
    "zur Approximation verwenden, gesucht sind also die Koeffizienten $a, b, c$. Dabei sind Werte zu den Jahren gegeben, wir stellen also die Rechte Seite aus den Temperaturwerten und die Koeffizienten der Systemmatrix $A$ aus den Jahreszahlen (d.h. den Datenpunkten) auf."
   ]
  },
  {
   "cell_type": "code",
   "execution_count": null,
   "metadata": {},
   "outputs": [],
   "source": [
    "Al=transpose(array([year, ones(m)]))\n",
    "Aq=transpose(array([year*year, year, ones(m)]))\n",
    "b=temp"
   ]
  },
  {
   "cell_type": "markdown",
   "metadata": {},
   "source": [
    "Damit müssen wir nun nur noch den SciPy Befehl `lstsq` aufrufen und können damit schon unser Problem lösen!"
   ]
  },
  {
   "cell_type": "code",
   "execution_count": null,
   "metadata": {},
   "outputs": [],
   "source": [
    "xl, resl, rnkl, sl = lstsq(Al, b)\n",
    "xq, resq, rnkq, sq = lstsq(Aq, b)"
   ]
  },
  {
   "cell_type": "markdown",
   "metadata": {},
   "source": [
    "Damit  haben wir die Parameter für unsere beiden Funktionen $\\phi$ und $\\psi$ berechnet und können diese Rekonstruieren:"
   ]
  },
  {
   "cell_type": "code",
   "execution_count": null,
   "metadata": {},
   "outputs": [],
   "source": [
    "plinear= xl[0]*year +xl[1]\n",
    "pquadr = xq[0]*multiply(year,year)+ xq[1]*year+ xq[2] "
   ]
  },
  {
   "cell_type": "markdown",
   "metadata": {},
   "source": [
    "Zu guter Letzt stellen wir das Ergebnis wieder graphisch dar. In beiden Fällen lässt sich aus den Daten ein Erwärmungstrend ablesen."
   ]
  },
  {
   "cell_type": "code",
   "execution_count": null,
   "metadata": {},
   "outputs": [],
   "source": [
    "plt.plot(year,temp,'ro')\n",
    "plt.plot(year,plinear,'b-',linewidth=2,label='linear')\n",
    "plt.plot(year,pquadr,'k-',linewidth=2,label='quadr.')\n",
    "plt.legend(loc='upper left')\n",
    "plt.title('Jahresmittel in Hamburg (HHyearmean1892_2010.dat)')\n",
    "plt.xlabel('Jahr')\n",
    "plt.ylabel('Temperatur [°C]');"
   ]
  },
  {
   "cell_type": "markdown",
   "metadata": {},
   "source": [
    "## 5. Lösung gewöhnlicher Differentialgleichungen\n",
    "\n",
    "Als Abschluss dieses Notebooks wollen wir eine komplizierte gewöhnliche Differentialgleichung lösen. Es handelt sich um ein Problem aus der Raumfahrt, das sogenannte _Arenstorf Orbit_. Ein Raumschiff soll von der Erde aus zum Mond und wieder zurück fliegen und dabei möglichst die Beschleunigungskräfte des Planeten und seines Trabanten nutzen. Das Erde-Mond System ist dabei in einem rotierenden baryzentrischen Koordinatensystem $(x1,x2)$ gegeben, so dass darin Erde und Mond immer fest stehen. Die Beschleunigung des Raumschiffes ist durch ein System von zwei gewöhnlichen Differentialgleichungen gegeben:\n",
    "\\begin{align}\n",
    "x_1^{''} & =  x_1 + 2 x_2^\\prime - \\hat{\\mu} \\frac{x_1+\\mu}{N_1}\n",
    "                 - \\mu \\frac{x_1-\\hat{\\mu}}{N_2}, \\\\\n",
    "  x_2^{''} & =  x_2 - 2 x_1^\\prime - \\hat{\\mu} \\frac{x_2}{N_1} - \n",
    "                 \\mu \\frac{x_2}{N_2}\n",
    "\\end{align}\n",
    "mit $N_1 = \\left( (x_1 + \\mu)^2 + x_2^2\\right)^{3/2}$, $N_2 = \\left( (x_1-\\hat{\\mu})^2 + x_2^2\\right)^{3/2}$ und Daten $\\mu = 0.012277471$, $\\hat{\\mu} = 1-\\mu$. $\\mu$ ist dabei das Verhältnis der Masse des Mondes zur Gesamtmasse des Systems. Die Längeneinheit is auf die Distanz zwischen Mond und Erde normiert und die Zeiteinheit ist ein Monat. Anfangswerte für das System sind gegeben durch\n",
    "$$\n",
    "  x_1(0) = 0.994, \\quad x^\\prime_1(0) = 0, \\quad\n",
    "  x_2(0) = 0, \\quad x_2^\\prime(0) = -2.001585106\n",
    "$$\n",
    "und die Periode für einen Umlauf ist $T = 17.0652166$ Zeiteinheiten.\n",
    "\n",
    "Um dieses Problem mit Hilfe von Python zu lösen, müssen wir zunächst ein System erster Ordnung daraus herleiten. Das gelingt mittels Hilfsvariablen $x_3:=x_1'$ und $x_4:=x_2'$. Damit können wir die Terme zweiter Ordnung in der obigen Gleichung ersetzen durch $x_1^{''} = x_3'$ und $x_2^{''} = x_4'$.\n",
    "\n",
    "Die Rechte Seite ist dann einfach herzuleiten und das können wir unmittelbar in eine Python Funktion implementieren:"
   ]
  },
  {
   "cell_type": "code",
   "execution_count": null,
   "metadata": {},
   "outputs": [],
   "source": [
    "# Parameters:\n",
    "t0 = 0;                                 # Startzeit\n",
    "tE = 17.06521656015796                  # Endzeit - ein voller Orbit\n",
    "x0 = [0.994, 0, 0, -2.0015851063790825] # Anfangswerte\n",
    "DEM= 384400                             # Mittlere Entf. Mond-Erde [km] - Einheitslänge\n",
    "abstol= 1/DEM                           # Toleranz 1 km in Einheitslängen\n",
    "mu =0.012277471                         # Mondmasseverhältnis (entspricht Position in gewählten Koordinaten)\n",
    "dt = 0.001                              # Schrittweite für die graphische Darstellung\n",
    "\n",
    "# Rechte Seite als Funktion\n",
    "def arent(t,x):\n",
    "    mup= 1-mu\n",
    "    x22= x[1]**2\n",
    "    sqr= x[0]+mu\n",
    "    r1 = sqr*sqr+ x22\n",
    "    r1 = r1**(1.5)\n",
    "    sqr= x[0]- mup\n",
    "    r2 = sqr*sqr+ x22\n",
    "    r2 = r2**(1.5)\n",
    "    ar = [x[2], x[3], x[0]+2*x[3]-mup/r1*(x[0]+mu)-mu/r2*(x[0]-mup), x[1]-2*x[2]-mup/r1*x[1]-mu/r2*x[1]]\n",
    "    return ar"
   ]
  },
  {
   "cell_type": "markdown",
   "metadata": {},
   "source": [
    "Als nächstes bestimmen wir die Anzahl der Schritte, an denen wir eine Lösung erwarten, damit wir sie glatt graphisch darstellen können."
   ]
  },
  {
   "cell_type": "code",
   "execution_count": null,
   "metadata": {},
   "outputs": [],
   "source": [
    "from numpy import floor\n",
    "n= int(floor(((tE+dt)-t0)/dt))\n",
    "xx= linspace(t0,tE,n,endpoint=True)"
   ]
  },
  {
   "cell_type": "markdown",
   "metadata": {},
   "source": [
    "Nun lösen wir das Problem unter Nutzung der SciPy integrate Umgebung und der daraus importierten Funktion `solve_ivp` (das steht für die Lösung von Anfangswertproblemen - initial value problems)."
   ]
  },
  {
   "cell_type": "code",
   "execution_count": null,
   "metadata": {},
   "outputs": [],
   "source": [
    "from scipy.integrate import solve_ivp\n",
    "sol = solve_ivp(arent,[t0,tE],x0,dense_output=True,rtol=abstol)\n",
    "\n",
    "s= sol.sol(xx) # Lösung auf dem dichten Gitter zur Visualisierung\n",
    "xa= s[0,:]     # Extrahiere x-Koord. der Position (x_1)\n",
    "ya= s[1,:]     # Extrahiere y-Koord. der Position (x_2)\n",
    "\n",
    "plt.plot(xa,ya,'-g')   # Satellitenbahn\n",
    "plt.plot(-mu,0,'or')   # Mond\n",
    "plt.plot(1-mu,0,'ob')  # Erde\n",
    "plt.axis([-1.5, 1.25, -1.25, 1.25])\n",
    "plt.title('Arenstorf Orbit')\n",
    "plt.xlabel('x_1')\n",
    "plt.ylabel('x_2');"
   ]
  },
  {
   "cell_type": "markdown",
   "metadata": {},
   "source": [
    "Diesen Orbit hätten wir mit symbolischer Lösung der gewöhnlichen Differentialgleichung wohl nicht so einfach lösen können. Dazu ist die Rechte Seite zu kompliziert."
   ]
  },
  {
   "cell_type": "markdown",
   "metadata": {},
   "source": [
    "---\n",
    "1) <span id=\"fn1\">Copyright Notice:\n",
    "    \n",
    "    NumPy Anwendungen, Copyright (C) 2020  Jörn Behrens\n",
    "    \n",
    "        Prof. Dr. Jörn Behrens\n",
    "        Universität Hamburg, Dept. Mathematik\n",
    "        Bundesstrasse 55\n",
    "        20146 Hamburg, Germany\n",
    "        joern.behrens@uni-hamburg.de\n",
    "\n",
    "    This program is free software; you can redistribute it and/or modify\n",
    "    it under the terms of the GNU General Public License as published by\n",
    "    the Free Software Foundation; either version 2 of the License, or\n",
    "    (at your option) any later version.\n",
    "\n",
    "    This program is distributed in the hope that it will be useful,\n",
    "    but WITHOUT ANY WARRANTY; without even the implied warranty of\n",
    "    MERCHANTABILITY or FITNESS FOR A PARTICULAR PURPOSE.  See the\n",
    "    GNU General Public License for more details.\n",
    "\n",
    "    You should have received a copy of the GNU General Public License along\n",
    "    with this program; if not, write to the Free Software Foundation, Inc.,\n",
    "    51 Franklin Street, Fifth Floor, Boston, MA 02110-1301 USA.\n",
    "\n",
    "\n",
    "</span>"
   ]
  },
  {
   "cell_type": "code",
   "execution_count": null,
   "metadata": {},
   "outputs": [],
   "source": []
  }
 ],
 "metadata": {
  "kernelspec": {
   "display_name": "Python 3",
   "language": "python",
   "name": "python3"
  },
  "language_info": {
   "codemirror_mode": {
    "name": "ipython",
    "version": 3
   },
   "file_extension": ".py",
   "mimetype": "text/x-python",
   "name": "python",
   "nbconvert_exporter": "python",
   "pygments_lexer": "ipython3",
   "version": "3.7.7"
  }
 },
 "nbformat": 4,
 "nbformat_minor": 4
}
