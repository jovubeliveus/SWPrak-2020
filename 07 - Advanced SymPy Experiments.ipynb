{
 "cells": [
  {
   "cell_type": "markdown",
   "metadata": {},
   "source": [
    "_Softwarepraktikum Blockkurs März 2020 (WS2019/20)_ "
   ]
  },
  {
   "cell_type": "markdown",
   "metadata": {},
   "source": [
    "# Fortgeschrittene Symbolische Programmierung[<sup>1</sup>](#fn1)"
   ]
  },
  {
   "cell_type": "markdown",
   "metadata": {},
   "source": [
    "[Jörn Behrens](https://www.math.uni-hamburg.de/numgeo/) (joern.behrens@uni-hamburg.de)"
   ]
  },
  {
   "cell_type": "markdown",
   "metadata": {},
   "source": [
    "## 1. Einführung und Ziel\n",
    "\n",
    "Nachdem wir nun erste Erfahrungen mit der symbolischen Programmierung gesammelt haben und nachdem wir auch Graphiken erzeugen können, werden wir uns nun etwas tiefer in die symbolische Programmierung mit SymPy einarbeiten. \n",
    "\n",
    "### Eininge Vorbemerkungen\n",
    "\n",
    "Zunächst brauchen wir ein erweitertes Verständnis davon, wie SymPy arbeitet, damit wir manche der Reaktionen verstehen. Dazu beginnen wir mit der Einführung von sogenantnen _Expression-Trees_. Jeder symbolische Ausdruck in SymPy ist zerlegt in elementare Ausdrück, die wiederum hierarchisch aufgebaut sind. Beispiele in diesem Teil sind angelehnt an die [SymPy Dokumentation](https://docs.sympy.org/latest/tutorial/manipulation.html)."
   ]
  },
  {
   "cell_type": "code",
   "execution_count": 1,
   "metadata": {},
   "outputs": [
    {
     "data": {
      "text/plain": [
       "\"Add(Pow(Symbol('x'), Integer(2)), Mul(Symbol('x'), Symbol('y')))\""
      ]
     },
     "execution_count": 1,
     "metadata": {},
     "output_type": "execute_result"
    }
   ],
   "source": [
    "from sympy import *\n",
    "init_printing(use_unicode=True)\n",
    "\n",
    "x,y,z = symbols('x y z')\n",
    "expr  = x**2 + x*y\n",
    "srepr(expr)"
   ]
  },
  {
   "cell_type": "markdown",
   "metadata": {},
   "source": [
    "Im obigen Beispiel haben wir zunächst einen Ausdruck $x^2+xy$ erzeugt und mit dem Befehl `srepr` analysiert. Die Klammerschachtelung entspricht dabei einer Baumtiefe. Der zugehörige Expression-Tree sieht dann etwa so aus:\n",
    "![Expression Tree 1](figs/SWPrak07-exprtree1.png \"Expression Tree for x**2 + x*y\")"
   ]
  },
  {
   "cell_type": "markdown",
   "metadata": {},
   "source": [
    "## 3. Aufgaben\n",
    "\n",
    "1. Aufgabe 1."
   ]
  },
  {
   "cell_type": "markdown",
   "metadata": {},
   "source": [
    "---\n",
    "1) <span id=\"fn1\">Copyright Notice:\n",
    "    \n",
    "    Fortgeschrittene Symbolische Programmierung, Copyright (C) 2020  Jörn Behrens\n",
    "    \n",
    "        Prof. Dr. Jörn Behrens\n",
    "        Universität Hamburg, Dept. Mathematik\n",
    "        Bundesstrasse 55\n",
    "        20146 Hamburg, Germany\n",
    "        joern.behrens@uni-hamburg.de\n",
    "\n",
    "    This program is free software; you can redistribute it and/or modify\n",
    "    it under the terms of the GNU General Public License as published by\n",
    "    the Free Software Foundation; either version 2 of the License, or\n",
    "    (at your option) any later version.\n",
    "\n",
    "    This program is distributed in the hope that it will be useful,\n",
    "    but WITHOUT ANY WARRANTY; without even the implied warranty of\n",
    "    MERCHANTABILITY or FITNESS FOR A PARTICULAR PURPOSE.  See the\n",
    "    GNU General Public License for more details.\n",
    "\n",
    "    You should have received a copy of the GNU General Public License along\n",
    "    with this program; if not, write to the Free Software Foundation, Inc.,\n",
    "    51 Franklin Street, Fifth Floor, Boston, MA 02110-1301 USA.\n",
    "\n",
    "\n",
    "</span>"
   ]
  },
  {
   "cell_type": "code",
   "execution_count": null,
   "metadata": {},
   "outputs": [],
   "source": []
  }
 ],
 "metadata": {
  "kernelspec": {
   "display_name": "Python 3",
   "language": "python",
   "name": "python3"
  },
  "language_info": {
   "codemirror_mode": {
    "name": "ipython",
    "version": 3
   },
   "file_extension": ".py",
   "mimetype": "text/x-python",
   "name": "python",
   "nbconvert_exporter": "python",
   "pygments_lexer": "ipython3",
   "version": "3.7.7"
  }
 },
 "nbformat": 4,
 "nbformat_minor": 4
}
